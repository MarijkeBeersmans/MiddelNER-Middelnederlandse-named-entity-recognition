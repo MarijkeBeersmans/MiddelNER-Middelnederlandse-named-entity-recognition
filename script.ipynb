{
 "cells": [
  {
   "cell_type": "code",
   "execution_count": 133,
   "metadata": {},
   "outputs": [],
   "source": [
    "import pandas as pd"
   ]
  },
  {
   "cell_type": "code",
   "execution_count": 134,
   "metadata": {},
   "outputs": [
    {
     "data": {
      "text/html": [
       "<div>\n",
       "<style scoped>\n",
       "    .dataframe tbody tr th:only-of-type {\n",
       "        vertical-align: middle;\n",
       "    }\n",
       "\n",
       "    .dataframe tbody tr th {\n",
       "        vertical-align: top;\n",
       "    }\n",
       "\n",
       "    .dataframe thead th {\n",
       "        text-align: right;\n",
       "    }\n",
       "</style>\n",
       "<table border=\"1\" class=\"dataframe\">\n",
       "  <thead>\n",
       "    <tr style=\"text-align: right;\">\n",
       "      <th></th>\n",
       "      <th>0</th>\n",
       "      <th>1</th>\n",
       "      <th>2</th>\n",
       "      <th>3</th>\n",
       "      <th>4</th>\n",
       "    </tr>\n",
       "  </thead>\n",
       "  <tbody>\n",
       "    <tr>\n",
       "      <th>0</th>\n",
       "      <td>wi</td>\n",
       "      <td>O</td>\n",
       "      <td>365</td>\n",
       "      <td>O098p33302</td>\n",
       "      <td>1</td>\n",
       "    </tr>\n",
       "    <tr>\n",
       "      <th>1</th>\n",
       "      <td>hebben</td>\n",
       "      <td>O</td>\n",
       "      <td>365</td>\n",
       "      <td>O098p33302</td>\n",
       "      <td>1</td>\n",
       "    </tr>\n",
       "    <tr>\n",
       "      <th>2</th>\n",
       "      <td>ij</td>\n",
       "      <td>B-MONEY</td>\n",
       "      <td>365</td>\n",
       "      <td>O098p33302</td>\n",
       "      <td>1</td>\n",
       "    </tr>\n",
       "    <tr>\n",
       "      <th>3</th>\n",
       "      <td>sc</td>\n",
       "      <td>I-MONEY</td>\n",
       "      <td>365</td>\n",
       "      <td>O098p33302</td>\n",
       "      <td>1</td>\n",
       "    </tr>\n",
       "    <tr>\n",
       "      <th>4</th>\n",
       "      <td>par</td>\n",
       "      <td>I-MONEY</td>\n",
       "      <td>365</td>\n",
       "      <td>O098p33302</td>\n",
       "      <td>1</td>\n",
       "    </tr>\n",
       "  </tbody>\n",
       "</table>\n",
       "</div>"
      ],
      "text/plain": [
       "        0        1    2           3  4\n",
       "0      wi        O  365  O098p33302  1\n",
       "1  hebben        O  365  O098p33302  1\n",
       "2      ij  B-MONEY  365  O098p33302  1\n",
       "3      sc  I-MONEY  365  O098p33302  1\n",
       "4     par  I-MONEY  365  O098p33302  1"
      ]
     },
     "execution_count": 134,
     "metadata": {},
     "output_type": "execute_result"
    }
   ],
   "source": [
    "path = 'C14NL-PoS-annotated/TRAIN.tsv'\n",
    "TRAIN_DF = pd.read_csv(path, sep=\"\\t\", encoding = \"UTF-8\", header=None)\n",
    "\n",
    "path2 = 'C14NL-PoS-annotated/TEST.tsv'\n",
    "TEST_DF = pd.read_csv(path2, sep=\"\\t\", encoding = \"UTF-8\", header=None)\n",
    "\n",
    "path3 = 'C14NL-PoS-annotated/DEV.tsv'\n",
    "DEV_DF = pd.read_csv(path3, sep=\"\\t\", encoding = \"UTF-8\", header=None)\n",
    "\n",
    "from string import punctuation\n",
    "\n",
    "def clean_words(word):\n",
    "  word = word.casefold()\n",
    "  word = word.translate(str.maketrans('', '', punctuation))\n",
    "  return word\n",
    "\n",
    "# print(TRAIN[0])\n",
    "TRAIN_DF[0] = TRAIN_DF[0].apply(clean_words)\n",
    "DEV_DF[0] = DEV_DF[0].apply(clean_words)\n",
    "TEST_DF[0] = TEST_DF[0].apply(clean_words)\n",
    "\n",
    "TRAIN_DF.head()"
   ]
  },
  {
   "cell_type": "code",
   "execution_count": 135,
   "metadata": {},
   "outputs": [],
   "source": [
    "TRAIN_DF.dropna(subset=[0], inplace=True)\n",
    "TEST_DF.dropna(subset=[0], inplace=True)\n",
    "DEV_DF.dropna(subset=[0], inplace=True)"
   ]
  },
  {
   "cell_type": "code",
   "execution_count": 136,
   "metadata": {},
   "outputs": [],
   "source": [
    "indexes = TRAIN_DF[TRAIN_DF[0].str.isalpha() != True].index\n",
    "TRAIN_DF.drop(indexes, inplace=True)\n",
    "TRAIN_DF.reset_index(inplace=True)"
   ]
  },
  {
   "cell_type": "code",
   "execution_count": 137,
   "metadata": {},
   "outputs": [
    {
     "name": "stderr",
     "output_type": "stream",
     "text": [
      "C:\\Users\\Gebruiker\\AppData\\Local\\Temp\\ipykernel_26056\\627423333.py:1: UserWarning: Boolean Series key will be reindexed to match DataFrame index.\n",
      "  check = TEST_DF[TRAIN_DF[0].str.isalpha() != True]\n"
     ]
    },
    {
     "data": {
      "text/html": [
       "<div>\n",
       "<style scoped>\n",
       "    .dataframe tbody tr th:only-of-type {\n",
       "        vertical-align: middle;\n",
       "    }\n",
       "\n",
       "    .dataframe tbody tr th {\n",
       "        vertical-align: top;\n",
       "    }\n",
       "\n",
       "    .dataframe thead th {\n",
       "        text-align: right;\n",
       "    }\n",
       "</style>\n",
       "<table border=\"1\" class=\"dataframe\">\n",
       "  <thead>\n",
       "    <tr style=\"text-align: right;\">\n",
       "      <th></th>\n",
       "      <th>0</th>\n",
       "      <th>1</th>\n",
       "      <th>2</th>\n",
       "      <th>3</th>\n",
       "      <th>4</th>\n",
       "    </tr>\n",
       "  </thead>\n",
       "  <tbody>\n",
       "  </tbody>\n",
       "</table>\n",
       "</div>"
      ],
      "text/plain": [
       "Empty DataFrame\n",
       "Columns: [0, 1, 2, 3, 4]\n",
       "Index: []"
      ]
     },
     "execution_count": 137,
     "metadata": {},
     "output_type": "execute_result"
    }
   ],
   "source": [
    "check = TEST_DF[TRAIN_DF[0].str.isalpha() != True]\n",
    "check"
   ]
  },
  {
   "cell_type": "code",
   "execution_count": 138,
   "metadata": {},
   "outputs": [
    {
     "name": "stderr",
     "output_type": "stream",
     "text": [
      "C:\\Users\\Gebruiker\\AppData\\Local\\Temp\\ipykernel_26056\\1434860359.py:1: UserWarning: Boolean Series key will be reindexed to match DataFrame index.\n",
      "  check = DEV_DF[TRAIN_DF[0].str.isalpha() != True]\n"
     ]
    },
    {
     "data": {
      "text/html": [
       "<div>\n",
       "<style scoped>\n",
       "    .dataframe tbody tr th:only-of-type {\n",
       "        vertical-align: middle;\n",
       "    }\n",
       "\n",
       "    .dataframe tbody tr th {\n",
       "        vertical-align: top;\n",
       "    }\n",
       "\n",
       "    .dataframe thead th {\n",
       "        text-align: right;\n",
       "    }\n",
       "</style>\n",
       "<table border=\"1\" class=\"dataframe\">\n",
       "  <thead>\n",
       "    <tr style=\"text-align: right;\">\n",
       "      <th></th>\n",
       "      <th>0</th>\n",
       "      <th>1</th>\n",
       "      <th>2</th>\n",
       "      <th>3</th>\n",
       "      <th>4</th>\n",
       "    </tr>\n",
       "  </thead>\n",
       "  <tbody>\n",
       "  </tbody>\n",
       "</table>\n",
       "</div>"
      ],
      "text/plain": [
       "Empty DataFrame\n",
       "Columns: [0, 1, 2, 3, 4]\n",
       "Index: []"
      ]
     },
     "execution_count": 138,
     "metadata": {},
     "output_type": "execute_result"
    }
   ],
   "source": [
    "check = DEV_DF[TRAIN_DF[0].str.isalpha() != True]\n",
    "check"
   ]
  },
  {
   "cell_type": "code",
   "execution_count": 139,
   "metadata": {},
   "outputs": [],
   "source": [
    "def to_file(df, path):\n",
    "  grouped_by_doc = df.groupby(2)\n",
    "\n",
    "  try:\n",
    "      with open(path, 'r', encoding='UTF-8') as f:\n",
    "        text = f.read()\n",
    "      if len(text) != 0:\n",
    "        with open(path, 'w', encoding='UTF-8') as f:\n",
    "          f.write('')\n",
    "  except FileNotFoundError:\n",
    "    pass\n",
    "  \n",
    "  for group in grouped_by_doc.groups:\n",
    "    group = grouped_by_doc.get_group(group)\n",
    "    with open(path, 'a', encoding='UTF-8') as f:\n",
    "      for x, y in zip(group[0], group[1]):\n",
    "        f.write(f'{x.strip()}\\t{y.strip()}\\n')\n",
    "      f.write('\\n')\n",
    "\n",
    "to_file(TEST_DF,'C14NL-PoS-annotated/test_for_spacy.txt')\n",
    "to_file(TRAIN_DF,'C14NL-PoS-annotated/train_for_spacy.txt')\n",
    "to_file(DEV_DF,'C14NL-PoS-annotated/dev_for_spacy.txt')"
   ]
  },
  {
   "cell_type": "code",
   "execution_count": 140,
   "metadata": {},
   "outputs": [
    {
     "data": {
      "text/plain": [
       "'3.2.4'"
      ]
     },
     "execution_count": 140,
     "metadata": {},
     "output_type": "execute_result"
    }
   ],
   "source": [
    "import spacy\n",
    "spacy.__version__"
   ]
  },
  {
   "cell_type": "code",
   "execution_count": 141,
   "metadata": {},
   "outputs": [],
   "source": [
    "import re\n",
    "\n",
    "def validate_iob(lines):\n",
    "    lines_checked = []\n",
    "    for line in lines:\n",
    "        try:\n",
    "            if line == '\\n':\n",
    "                assert lines_checked[-1] != '\\n'\n",
    "            else:\n",
    "                assert len(line.split('\\t')) == 2\n",
    "                token, tag = line.split('\\t')\n",
    "                assert len(token) != 0\n",
    "                assert token[-1].isalpha()\n",
    "                # assert tag in ['O', 'B-MONEY', 'B-DATE', 'B-PERS', 'B-LOC', 'I-MONEY', 'I-DATE', 'I-PERS', 'I-LOC']\n",
    "        \n",
    "        except AssertionError:\n",
    "            print(line, len(lines_checked))\n",
    "            break\n",
    "        lines_checked.append(line)\n"
   ]
  },
  {
   "cell_type": "code",
   "execution_count": 142,
   "metadata": {},
   "outputs": [],
   "source": [
    "with open('C14NL-PoS-annotated/train_for_spacy.txt') as f:\n",
    "    lines = f.readlines()\n",
    "validate_iob(lines)"
   ]
  },
  {
   "cell_type": "code",
   "execution_count": 143,
   "metadata": {},
   "outputs": [
    {
     "name": "stdout",
     "output_type": "stream",
     "text": [
      "ℹ Grouping every 1 sentences into a document.\n",
      "⚠ To generate better training data, you may want to group sentences into\n",
      "documents with `-n 10`.\n",
      "✔ Generated output file (124 documents):\n",
      "C:\\Users\\Gebruiker\\Documents\\UA\\Stage\\Middelner_Github\\C14NL-PoS-annotated\\train_for_spacy.spacy\n"
     ]
    },
    {
     "name": "stderr",
     "output_type": "stream",
     "text": [
      "c:\\Users\\Gebruiker\\anaconda3\\lib\\site-packages\\cupy\\_environment.py:213: UserWarning: CUDA path could not be detected. Set CUDA_PATH environment variable if CuPy fails to load.\n",
      "  warnings.warn(\n",
      "c:\\Users\\Gebruiker\\anaconda3\\lib\\site-packages\\cupy\\_environment.py:213: UserWarning: CUDA path could not be detected. Set CUDA_PATH environment variable if CuPy fails to load.\n",
      "  warnings.warn(\n",
      "c:\\Users\\Gebruiker\\anaconda3\\lib\\site-packages\\cupy\\_environment.py:213: UserWarning: CUDA path could not be detected. Set CUDA_PATH environment variable if CuPy fails to load.\n",
      "  warnings.warn(\n",
      "c:\\Users\\Gebruiker\\anaconda3\\lib\\site-packages\\cupy\\_environment.py:213: UserWarning: CUDA path could not be detected. Set CUDA_PATH environment variable if CuPy fails to load.\n",
      "  warnings.warn(\n"
     ]
    },
    {
     "name": "stdout",
     "output_type": "stream",
     "text": [
      "ℹ Grouping every 1 sentences into a document.\n",
      "⚠ To generate better training data, you may want to group sentences into\n",
      "documents with `-n 10`.\n",
      "✔ Generated output file (15 documents):\n",
      "C:\\Users\\Gebruiker\\Documents\\UA\\Stage\\Middelner_Github\\C14NL-PoS-annotated\\dev_for_spacy.spacy\n"
     ]
    },
    {
     "name": "stderr",
     "output_type": "stream",
     "text": [
      "c:\\Users\\Gebruiker\\anaconda3\\lib\\site-packages\\cupy\\_environment.py:213: UserWarning: CUDA path could not be detected. Set CUDA_PATH environment variable if CuPy fails to load.\n",
      "  warnings.warn(\n",
      "c:\\Users\\Gebruiker\\anaconda3\\lib\\site-packages\\cupy\\_environment.py:213: UserWarning: CUDA path could not be detected. Set CUDA_PATH environment variable if CuPy fails to load.\n",
      "  warnings.warn(\n",
      "c:\\Users\\Gebruiker\\anaconda3\\lib\\site-packages\\cupy\\_environment.py:213: UserWarning: CUDA path could not be detected. Set CUDA_PATH environment variable if CuPy fails to load.\n",
      "  warnings.warn(\n",
      "c:\\Users\\Gebruiker\\anaconda3\\lib\\site-packages\\cupy\\_environment.py:213: UserWarning: CUDA path could not be detected. Set CUDA_PATH environment variable if CuPy fails to load.\n",
      "  warnings.warn(\n"
     ]
    },
    {
     "name": "stdout",
     "output_type": "stream",
     "text": [
      "ℹ Grouping every 1 sentences into a document.\n",
      "⚠ To generate better training data, you may want to group sentences into\n",
      "documents with `-n 10`.\n",
      "✔ Generated output file (16 documents):\n",
      "C:\\Users\\Gebruiker\\Documents\\UA\\Stage\\Middelner_Github\\C14NL-PoS-annotated\\test_for_spacy.spacy\n"
     ]
    },
    {
     "name": "stderr",
     "output_type": "stream",
     "text": [
      "c:\\Users\\Gebruiker\\anaconda3\\lib\\site-packages\\cupy\\_environment.py:213: UserWarning: CUDA path could not be detected. Set CUDA_PATH environment variable if CuPy fails to load.\n",
      "  warnings.warn(\n",
      "c:\\Users\\Gebruiker\\anaconda3\\lib\\site-packages\\cupy\\_environment.py:213: UserWarning: CUDA path could not be detected. Set CUDA_PATH environment variable if CuPy fails to load.\n",
      "  warnings.warn(\n",
      "c:\\Users\\Gebruiker\\anaconda3\\lib\\site-packages\\cupy\\_environment.py:213: UserWarning: CUDA path could not be detected. Set CUDA_PATH environment variable if CuPy fails to load.\n",
      "  warnings.warn(\n",
      "c:\\Users\\Gebruiker\\anaconda3\\lib\\site-packages\\cupy\\_environment.py:213: UserWarning: CUDA path could not be detected. Set CUDA_PATH environment variable if CuPy fails to load.\n",
      "  warnings.warn(\n"
     ]
    }
   ],
   "source": [
    "!python -m spacy convert C:/Users/Gebruiker/Documents/UA/Stage/Middelner_Github/C14NL-PoS-annotated/train_for_spacy.txt C:/Users/Gebruiker/Documents/UA/Stage/Middelner_Github/C14NL-PoS-annotated -c conll\n",
    "!python -m spacy convert C:/Users/Gebruiker/Documents/UA/Stage/Middelner_Github/C14NL-PoS-annotated/dev_for_spacy.txt C:/Users/Gebruiker/Documents/UA/Stage/Middelner_Github/C14NL-PoS-annotated -c conll\n",
    "!python -m spacy convert C:/Users/Gebruiker/Documents/UA/Stage/Middelner_Github/C14NL-PoS-annotated/test_for_spacy.txt C:/Users/Gebruiker/Documents/UA/Stage/Middelner_Github/C14NL-PoS-annotated -c conll\n"
   ]
  }
 ],
 "metadata": {
  "kernelspec": {
   "display_name": "base",
   "language": "python",
   "name": "python3"
  },
  "language_info": {
   "codemirror_mode": {
    "name": "ipython",
    "version": 3
   },
   "file_extension": ".py",
   "mimetype": "text/x-python",
   "name": "python",
   "nbconvert_exporter": "python",
   "pygments_lexer": "ipython3",
   "version": "3.8.8"
  },
  "orig_nbformat": 4,
  "vscode": {
   "interpreter": {
    "hash": "db3ad00c254152fbd946dfe3ddf750e2d6dd1f511dd85499e770b0c6b301697a"
   }
  }
 },
 "nbformat": 4,
 "nbformat_minor": 2
}
