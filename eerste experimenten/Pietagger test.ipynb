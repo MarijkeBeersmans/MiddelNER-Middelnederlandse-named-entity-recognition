{
 "cells": [
  {
   "cell_type": "code",
   "execution_count": 27,
   "id": "ce9b0ff3",
   "metadata": {},
   "outputs": [
    {
     "data": {
      "text/html": [
       "<div>\n",
       "<style scoped>\n",
       "    .dataframe tbody tr th:only-of-type {\n",
       "        vertical-align: middle;\n",
       "    }\n",
       "\n",
       "    .dataframe tbody tr th {\n",
       "        vertical-align: top;\n",
       "    }\n",
       "\n",
       "    .dataframe thead th {\n",
       "        text-align: right;\n",
       "    }\n",
       "</style>\n",
       "<table border=\"1\" class=\"dataframe\">\n",
       "  <thead>\n",
       "    <tr style=\"text-align: right;\">\n",
       "      <th></th>\n",
       "      <th>0</th>\n",
       "      <th>1</th>\n",
       "      <th>2</th>\n",
       "      <th>3</th>\n",
       "      <th>4</th>\n",
       "    </tr>\n",
       "  </thead>\n",
       "  <tbody>\n",
       "    <tr>\n",
       "      <th>0</th>\n",
       "      <td>wie</td>\n",
       "      <td>O</td>\n",
       "      <td>688</td>\n",
       "      <td>H072p40001</td>\n",
       "      <td>140</td>\n",
       "    </tr>\n",
       "    <tr>\n",
       "      <th>1</th>\n",
       "      <td>suster</td>\n",
       "      <td>O</td>\n",
       "      <td>688</td>\n",
       "      <td>H072p40001</td>\n",
       "      <td>140</td>\n",
       "    </tr>\n",
       "    <tr>\n",
       "      <th>2</th>\n",
       "      <td>lisebette</td>\n",
       "      <td>B-PERS</td>\n",
       "      <td>688</td>\n",
       "      <td>H072p40001</td>\n",
       "      <td>140</td>\n",
       "    </tr>\n",
       "    <tr>\n",
       "      <th>3</th>\n",
       "      <td>bi</td>\n",
       "      <td>O</td>\n",
       "      <td>688</td>\n",
       "      <td>H072p40001</td>\n",
       "      <td>140</td>\n",
       "    </tr>\n",
       "    <tr>\n",
       "      <th>4</th>\n",
       "      <td>den</td>\n",
       "      <td>O</td>\n",
       "      <td>688</td>\n",
       "      <td>H072p40001</td>\n",
       "      <td>140</td>\n",
       "    </tr>\n",
       "  </tbody>\n",
       "</table>\n",
       "</div>"
      ],
      "text/plain": [
       "           0       1    2           3    4\n",
       "0        wie       O  688  H072p40001  140\n",
       "1     suster       O  688  H072p40001  140\n",
       "2  lisebette  B-PERS  688  H072p40001  140\n",
       "3         bi       O  688  H072p40001  140\n",
       "4        den       O  688  H072p40001  140"
      ]
     },
     "execution_count": 27,
     "metadata": {},
     "output_type": "execute_result"
    }
   ],
   "source": [
    "import pandas as pd\n",
    "\n",
    "path = '../C14NL-PoS-annotated/TEST.tsv'\n",
    "TEST_DF = pd.read_csv(path, sep=\"\\t\", encoding = \"UTF-8\", header=None)\n",
    "\n",
    "\n",
    "from string import punctuation\n",
    "\n",
    "def clean_words(word):\n",
    "  word = word.casefold()\n",
    "  word = word.translate(str.maketrans('', '', punctuation))\n",
    "  return word\n",
    "\n",
    "# print(TRAIN[0])\n",
    "TEST_DF[0] = TEST_DF[0].apply(clean_words)\n",
    "\n",
    "TEST_DF.head()"
   ]
  },
  {
   "cell_type": "code",
   "execution_count": 37,
   "id": "bff44a28",
   "metadata": {},
   "outputs": [
    {
     "name": "stderr",
     "output_type": "stream",
     "text": [
      "C:\\Users\\Gebruiker\\AppData\\Local\\Temp\\ipykernel_21908\\514411928.py:16: SettingWithCopyWarning: \n",
      "A value is trying to be set on a copy of a slice from a DataFrame.\n",
      "Try using .loc[row_indexer,col_indexer] = value instead\n",
      "\n",
      "See the caveats in the documentation: https://pandas.pydata.org/pandas-docs/stable/user_guide/indexing.html#returning-a-view-versus-a-copy\n",
      "  df[1] = ['ENT' if x != 'O' or x == 'B-MONEY' or x == 'I-MONEY' else 'O' for x in df[1] ]\n"
     ]
    }
   ],
   "source": [
    "X = []\n",
    "\n",
    "grouped = TEST_DF.groupby(3)\n",
    "\n",
    "for group in grouped.groups:\n",
    "    df = grouped.get_group(group)\n",
    "    X.append(' '.join(list(df[0])))\n",
    "\n",
    "\n",
    "grouped = TEST_DF.groupby(3)\n",
    "\n",
    "y = []\n",
    "\n",
    "for group in grouped.groups:\n",
    "    df = grouped.get_group(group)\n",
    "    df[1] = ['ENT' if x != 'O' or x == 'B-MONEY' or x == 'I-MONEY' else 'O' for x in df[1] ]\n",
    "    y.append(list(df[1]))"
   ]
  },
  {
   "cell_type": "code",
   "execution_count": 38,
   "id": "48c13e18",
   "metadata": {},
   "outputs": [
    {
     "name": "stderr",
     "output_type": "stream",
     "text": [
      "2022-04-27 16:07:18,080 : Model C:\\Users\\Gebruiker\\anaconda3\\lib\\site-packages\\pie_extended\\downloads\\dum\\lemma.tar was serialized with a previous version of `pie`. This might result in issues. Model commit is 050815e, whereas current `pie` commit is 9ce3e8f.\n",
      "2022-04-27 16:07:19,296 : Model C:\\Users\\Gebruiker\\anaconda3\\lib\\site-packages\\pie_extended\\downloads\\dum\\pos.tar was serialized with a previous version of `pie`. This might result in issues. Model commit is 050815e, whereas current `pie` commit is 9ce3e8f.\n"
     ]
    },
    {
     "name": "stdout",
     "output_type": "stream",
     "text": [
      "wie suster lisebette bi den ghedoghe van gode abdesse va sinte clare typre kenne dat jc hebbe ontfanghen van der steide va ypre in de name en ouer suster kateline smisen nonne in onsen clooster xxiiij lb par als va de paiemente dat haer viel de xvsten dach va lau maent va de welke paimente voors en van alle verleidene paiemente en al dat atouchieren mach omme cause van der vors lijf rente houdic mi wel vernouch in de name en houer suster kateline voors in kennesse der wareide so hebbe jc abdesse voors deise lre gheseighelt met minen zeighele hute hanghende int jaer nos heren als men screef mccc iiijxx en xix den xvsten dach van lau maent\n"
     ]
    }
   ],
   "source": [
    "from typing import List\n",
    "from pie_extended.cli.utils import get_tagger\n",
    "\n",
    "model_name = \"dum\"\n",
    "tagger = get_tagger(model_name, batch_size=256, device=\"cpu\")\n",
    "\n",
    "sentences: List[str] = [body[1]]\n",
    "# Get the main object from the model (: data iterator + postprocesor\n",
    "from pie_extended.models.dum.imports import get_iterator_and_processor\n",
    "\n",
    "def get_ents_from_pie(text):\n",
    "    sentences: List[str] = [text]\n",
    "    for sentence_group in sentences:\n",
    "        iterator, processor = get_iterator_and_processor()\n",
    "        thing = tagger.tag_str(sentence_group, iterator=iterator, processor=processor)\n",
    "\n",
    "    lst = []    \n",
    "    for dct in thing:\n",
    "        if dct['pos'] == 'n(prop)':\n",
    "            lst.append('ENT')\n",
    "        else:\n",
    "            lst.append('O')\n",
    "    \n",
    "    return lst\n",
    "\n",
    "get_ents_from_pie(X[0])\n",
    "\n",
    "print(X[0])"
   ]
  },
  {
   "cell_type": "code",
   "execution_count": 39,
   "id": "ece36cf4",
   "metadata": {},
   "outputs": [
    {
     "name": "stdout",
     "output_type": "stream",
     "text": [
      "              precision    recall  f1-score   support\n",
      "\n",
      "         ENT       0.84      0.42      0.56       941\n",
      "           O       0.89      0.98      0.93      4309\n",
      "\n",
      "    accuracy                           0.88      5250\n",
      "   macro avg       0.87      0.70      0.74      5250\n",
      "weighted avg       0.88      0.88      0.86      5250\n",
      "\n"
     ]
    }
   ],
   "source": [
    "y_true = []\n",
    "\n",
    "for doc in y:\n",
    "    y_true.extend(doc)\n",
    "\n",
    "y_pred = []\n",
    "\n",
    "for doc in X:\n",
    "    ents = get_ents_from_pie(doc)\n",
    "    # print(ents)\n",
    "    y_pred.extend(ents)\n",
    "\n",
    "\n",
    "from sklearn.metrics import classification_report\n",
    "\n",
    "print(classification_report(y_true, y_pred))"
   ]
  }
 ],
 "metadata": {
  "kernelspec": {
   "display_name": "Python 3",
   "language": "python",
   "name": "python3"
  },
  "language_info": {
   "codemirror_mode": {
    "name": "ipython",
    "version": 3
   },
   "file_extension": ".py",
   "mimetype": "text/x-python",
   "name": "python",
   "nbconvert_exporter": "python",
   "pygments_lexer": "ipython3",
   "version": "3.8.8"
  }
 },
 "nbformat": 4,
 "nbformat_minor": 5
}
