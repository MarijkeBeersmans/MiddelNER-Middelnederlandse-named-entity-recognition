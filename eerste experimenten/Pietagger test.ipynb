{
 "cells": [
  {
   "cell_type": "code",
   "execution_count": 1,
   "id": "ce9b0ff3",
   "metadata": {},
   "outputs": [],
   "source": [
    "# from transformers import AutoTokenizer, AutoModelForMaskedLM\n",
    "\n",
    "# tokenizer = AutoTokenizer.from_pretrained(\"GroNLP/bert-base-dutch-cased\")\n",
    "\n",
    "# model = AutoModelForMaskedLM.from_pretrained(\"GroNLP/bert-base-dutch-cased\")"
   ]
  },
  {
   "cell_type": "code",
   "execution_count": 1,
   "id": "39df7692",
   "metadata": {},
   "outputs": [
    {
     "ename": "FileNotFoundError",
     "evalue": "[WinError 3] Het systeem kan het opgegeven pad niet vinden: 'C14NL-PoS/C14NL-PoS'",
     "output_type": "error",
     "traceback": [
      "\u001b[1;31m---------------------------------------------------------------------------\u001b[0m",
      "\u001b[1;31mFileNotFoundError\u001b[0m                         Traceback (most recent call last)",
      "\u001b[1;32mc:\\Users\\Gebruiker\\Documents\\UA\\Stage\\eerste experimenten\\Pietagger test.ipynb Cell 2'\u001b[0m in \u001b[0;36m<cell line: 6>\u001b[1;34m()\u001b[0m\n\u001b[0;32m      <a href='vscode-notebook-cell:/c%3A/Users/Gebruiker/Documents/UA/Stage/eerste%20experimenten/Pietagger%20test.ipynb#ch0000001?line=1'>2</a>\u001b[0m \u001b[39mfrom\u001b[39;00m \u001b[39mlxml\u001b[39;00m \u001b[39mimport\u001b[39;00m etree\n\u001b[0;32m      <a href='vscode-notebook-cell:/c%3A/Users/Gebruiker/Documents/UA/Stage/eerste%20experimenten/Pietagger%20test.ipynb#ch0000001?line=3'>4</a>\u001b[0m path \u001b[39m=\u001b[39m \u001b[39m'\u001b[39m\u001b[39mC14NL-PoS/C14NL-PoS\u001b[39m\u001b[39m'\u001b[39m\n\u001b[1;32m----> <a href='vscode-notebook-cell:/c%3A/Users/Gebruiker/Documents/UA/Stage/eerste%20experimenten/Pietagger%20test.ipynb#ch0000001?line=5'>6</a>\u001b[0m files \u001b[39m=\u001b[39m os\u001b[39m.\u001b[39;49mlistdir(path)\n\u001b[0;32m      <a href='vscode-notebook-cell:/c%3A/Users/Gebruiker/Documents/UA/Stage/eerste%20experimenten/Pietagger%20test.ipynb#ch0000001?line=7'>8</a>\u001b[0m \u001b[39mdef\u001b[39;00m \u001b[39mget_flattext\u001b[39m(tree):\n\u001b[0;32m      <a href='vscode-notebook-cell:/c%3A/Users/Gebruiker/Documents/UA/Stage/eerste%20experimenten/Pietagger%20test.ipynb#ch0000001?line=8'>9</a>\u001b[0m     body \u001b[39m=\u001b[39m []\n",
      "\u001b[1;31mFileNotFoundError\u001b[0m: [WinError 3] Het systeem kan het opgegeven pad niet vinden: 'C14NL-PoS/C14NL-PoS'"
     ]
    }
   ],
   "source": [
    "import os\n",
    "from lxml import etree\n",
    "\n",
    "path = 'C14NL-PoS/C14NL-PoS'\n",
    "    \n",
    "files = os.listdir(path)\n",
    "\n",
    "def get_flattext(tree):\n",
    "    body = []\n",
    "    for w in tree.iterfind('.//w'):\n",
    "        body.append(''.join(w.itertext()).strip().replace('\\n               ', ''))\n",
    "    flattext = ' '.join(body)\n",
    "    return flattext\n",
    "\n",
    "def get_text_with_ents(tree):\n",
    "    body_with_ents = []\n",
    "    for w in tree.iterfind('.//w'):\n",
    "        try:\n",
    "            if w.attrib['ana'].find('c02') != -1:\n",
    "                txt_ent = ''.join(w.itertext()).strip()\n",
    "                txt_ent = '{' + txt_ent + '}'\n",
    "                body_with_ents.append(txt_ent)\n",
    "            else:\n",
    "                body_with_ents.append(''.join(w.itertext()).strip().replace('\\n               ', ''))\n",
    "        except KeyError:\n",
    "            body_with_ents.append(''.join(w.itertext()).strip().replace('\\n               ', ''))\n",
    "    return ' '.join(body_with_ents)\n",
    "\n",
    "def get_text_with_ents_list(tree):\n",
    "    body_with_ents = []\n",
    "    for w in tree.iterfind('.//w'):\n",
    "        try:\n",
    "            if w.attrib['ana'].find('c02') != -1:\n",
    "                txt_ent = ''.join(w.itertext()).strip()\n",
    "                for e in txt_ent.split():\n",
    "                    body_with_ents.append((e, 'e'))\n",
    "            else:\n",
    "                body_with_ents.append(''.join(w.itertext()).strip().replace('\\n               ', ''))\n",
    "        except KeyError:\n",
    "            body_with_ents.append(''.join(w.itertext()).strip().replace('\\n               ', ''))\n",
    "    return body_with_ents\n",
    "\n",
    "def get_ents_list(tree):\n",
    "    ents = []\n",
    "    for w in tree.iterfind('.//w'):\n",
    "        try:\n",
    "            if w.attrib['ana'].find('c02') != -1:\n",
    "                txt_ent = ''.join(w.itertext()) \n",
    "                ents.append(txt_ent.strip().replace('\\n               ', ''))\n",
    "        except KeyError:\n",
    "            continue\n",
    "    return ents\n",
    "\n",
    "def print_xml(element):\n",
    "    \"functie om xml mooi te printen\"\n",
    "    print(etree.tostring(element, pretty_print=True).decode('utf-8'))\n",
    "\n",
    "with open(path + \"/\" + files[5]) as f:\n",
    "    tree = etree.parse(f)"
   ]
  },
  {
   "cell_type": "code",
   "execution_count": 2,
   "id": "48c13e18",
   "metadata": {},
   "outputs": [
    {
     "name": "stderr",
     "output_type": "stream",
     "text": [
      "2022-03-22 18:08:29,208 : Model C:\\Users\\Gebruiker\\anaconda3\\lib\\site-packages\\pie_extended\\downloads\\dum\\lemma.tar was serialized with a previous version of `pie`. This might result in issues. Model commit is 050815e, whereas current `pie` commit is 9ce3e8f.\n",
      "2022-03-22 18:08:29,916 : Model C:\\Users\\Gebruiker\\anaconda3\\lib\\site-packages\\pie_extended\\downloads\\dum\\pos.tar was serialized with a previous version of `pie`. This might result in issues. Model commit is 050815e, whereas current `pie` commit is 9ce3e8f.\n"
     ]
    },
    {
     "name": "stdout",
     "output_type": "stream",
     "text": [
      "[{'form': 'WiE', 'lemma': 'het', 'pos': 'pron(pers,1,sing)'}, {'form': 'pauwels', 'lemma': 'paulus', 'pos': 'n(prop)'}, {'form': 'vlaminc', 'lemma': 'vlaming', 'pos': 'n(prop)'}, {'form': 'mich', 'lemma': 'ik', 'pos': 'pron(pers,1,sing)'}, {'form': 'de', 'lemma': 'de', 'pos': 'art(def)'}, {'form': 'ghier', 'lemma': 'gier', 'pos': 'n(sing)'}, {'form': 'fense', 'lemma': 'fens', 'pos': 'n(prop)'}, {'form': 'ghoedybeur', 'lemma': 'goedgebuur', 'pos': 'n(prop)'}, {'form': 'jan', 'lemma': 'johannes', 'pos': 'n(prop)'}, {'form': 'de', 'lemma': 'de', 'pos': 'art(def)'}, {'form': 'wale', 'lemma': 'waal', 'pos': 'n(prop)'}, {'form': 'en', 'lemma': 'en', 'pos': 'conj(coord)'}, {'form': 'clais', 'lemma': 'nicolaas', 'pos': 'n(prop)'}, {'form': 'de', 'lemma': 'de', 'pos': 'art(def)'}, {'form': 'hane', 'lemma': 'haan', 'pos': 'n(prop)'}, {'form': 'scepene', 'lemma': 'schepen', 'pos': 'n(plu)'}, {'form': 'mire', 'lemma': 'mijn', 'pos': 'pron(poss)'}, {'form': 'joncvrowe', 'lemma': 'jonkvrouw', 'pos': 'n(sing)'}, {'form': 'van', 'lemma': 'van', 'pos': 'adp()'}, {'form': 'pasquedale', 'lemma': 'pasduizel', 'pos': 'n(prop)'}, {'form': 'in', 'lemma': 'in', 'pos': 'adp()'}, {'form': 'de', 'lemma': 'de', 'pos': 'art(def)'}, {'form': 'prochhie', 'lemma': 'parochie', 'pos': 'n(sing)'}, {'form': 'van', 'lemma': 'van', 'pos': 'adp()'}, {'form': 'langhemarc', 'lemma': 'lang+mark', 'pos': 'n(prop)'}, {'form': 'doen', 'lemma': 'doen', 'pos': 'v(fin,pres,lex)'}, {'form': 'te', 'lemma': 'te', 'pos': 'adp()'}, {'form': 'weitene', 'lemma': 'weten', 'pos': 'v(infin)'}, {'form': 'alle', 'lemma': 'al', 'pos': 'num(indef)'}, {'form': 'deghone', 'lemma': 'degene', 'pos': 'art(def)+pron(dem)'}, {'form': 'die', 'lemma': 'die', 'pos': 'pron(rel)'}, {'form': 'deise', 'lemma': 'deze', 'pos': 'pron(dem)'}, {'form': 'lette', 'lemma': 'letter', 'pos': 'n(sing)'}, {'form': 'zulle', 'lemma': 'zullen', 'pos': 'n(prop)'}, {'form': 'zien', 'lemma': 'zien', 'pos': 'v(infin)'}, {'form': 'of', 'lemma': 'of', 'pos': 'conj(coord)'}, {'form': 'hore', 'lemma': 'hun', 'pos': 'pron(poss)'}, {'form': 'leisen', 'lemma': 'lezen', 'pos': 'n(plu)'}, {'form': 'dat', 'lemma': 'dat', 'pos': 'conj(subord)'}, {'form': 'jacob', 'lemma': 'jacob', 'pos': 'n(prop)'}, {'form': 'gherboud', 'lemma': 'gerboud', 'pos': 'n(prop)'}, {'form': 'porte', 'lemma': 'poort', 'pos': 'n(sing)'}, {'form': 'van', 'lemma': 'van', 'pos': 'adp()'}, {'form': 'yppre', 'lemma': 'ipper', 'pos': 'n(prop)'}, {'form': 'heift', 'lemma': 'hebben', 'pos': 'v(fin,pres,aux_cop)'}, {'form': 'ghecocht', 'lemma': 'kopen', 'pos': 'v(participle,past)'}, {'form': 'en', 'lemma': 'en', 'pos': 'conj(coord)'}, {'form': 'ghecreghe', 'lemma': 'gekrijgen', 'pos': 'v(fin,past,lex)'}, {'form': 'Eruelike', 'lemma': 'erfelijk', 'pos': 'adv(gener)'}, {'form': 'wel', 'lemma': 'wel', 'pos': 'adv(gener)'}, {'form': 'en', 'lemma': 'een', 'pos': 'adv(neg)'}, {'form': 'wettelike', 'lemma': 'wettelijk', 'pos': 'adv(gener)'}, {'form': 'te', 'lemma': 'te', 'pos': 'adp()'}, {'form': 'zine', 'lemma': 'zijn', 'pos': 'v(infin)'}, {'form': 'bouf', 'lemma': 'behoef', 'pos': 'n(sing)'}, {'form': 'en', 'lemma': 'en', 'pos': 'conj(coord)'}, {'form': 'te', 'lemma': 'te', 'pos': 'adp()'}, {'form': 'sijns', 'lemma': 'zijn', 'pos': 'pron(poss)'}, {'form': 'hoirs', 'lemma': 'oor', 'pos': 'n(sing)'}, {'form': 'bouf', 'lemma': 'behoef', 'pos': 'n(sing)'}, {'form': 'jeghe', 'lemma': 'jegen', 'pos': 'adp()'}, {'form': 'janne', 'lemma': 'johannes', 'pos': 'n(prop)'}, {'form': 'de', 'lemma': 'de', 'pos': 'art(def)'}, {'form': 'amman', 'lemma': 'ambtman', 'pos': 'n(sing)'}, {'form': 'ser', 'lemma': 'de+heer', 'pos': 'art(def)+n(sing)'}, {'form': 'jans', 'lemma': 'johannes', 'pos': 'n(prop)'}, {'form': 'zone', 'lemma': 'zoon', 'pos': 'n(sing)'}, {'form': 'en', 'lemma': 'en', 'pos': 'conj(coord)'}, {'form': 'ieghe', 'lemma': 'jegen', 'pos': 'pron(indef)'}, {'form': 'coste', 'lemma': 'kost', 'pos': 'n(sing)'}, {'form': 'zin', 'lemma': 'zijn', 'pos': 'pron(poss)'}, {'form': 'wijf', 'lemma': 'wijf', 'pos': 'n(sing)'}, {'form': 'jeghen', 'lemma': 'jegen', 'pos': 'adp()'}, {'form': 'clais', 'lemma': 'nicolaas', 'pos': 'n(prop)'}, {'form': 'boitac', 'lemma': 'botaak', 'pos': 'n(prop)'}, {'form': 'labrechtszone', 'lemma': 'lambert', 'pos': 'n(sing)'}, {'form': 'en', 'lemma': 'en', 'pos': 'adp()'}, {'form': 'ieghe', 'lemma': 'jegen', 'pos': 'pron(indef)'}, {'form': 'lisebette', 'lemma': 'elisabeth', 'pos': 'n(prop)'}, {'form': 'zin', 'lemma': 'zijn', 'pos': 'pron(poss)'}, {'form': 'wijf', 'lemma': 'wijf', 'pos': 'n(sing)'}, {'form': 'en', 'lemma': 'en', 'pos': 'adp()'}, {'form': 'ieghe', 'lemma': 'jegen', 'pos': 'pron(indef)'}, {'form': 'piet', 'lemma': 'petrus', 'pos': 'n(sing)'}, {'form': 'keyen', 'lemma': 'kei', 'pos': 'n(prop)'}, {'form': 'willems', 'lemma': 'wilhelm', 'pos': 'n(prop)'}, {'form': 'zone', 'lemma': 'zoon', 'pos': 'n(sing)'}, {'form': 'en', 'lemma': 'een', 'pos': 'conj(coord)'}, {'form': 'ieghe', 'lemma': 'jegen', 'pos': 'num(indef)'}, {'form': 'jakemine', 'lemma': 'jacob', 'pos': 'n(prop)'}, {'form': 'zin', 'lemma': 'zijn', 'pos': 'pron(poss)'}, {'form': 'wijf', 'lemma': 'wijf', 'pos': 'n(sing)'}, {'form': 'olle', 'lemma': 'al', 'pos': 'num(indef)'}, {'form': 'ports', 'lemma': 'poort', 'pos': 'n(prop)'}, {'form': 'van', 'lemma': 'van', 'pos': 'adp()'}, {'form': 'ypre', 'lemma': 'ieper', 'pos': 'n(prop)'}, {'form': 'al', 'lemma': 'al', 'pos': 'num(indef)'}, {'form': 'tlant', 'lemma': 'dat+land', 'pos': 'art(def)+n(sing)'}, {'form': 'gheheel', 'lemma': 'geheel', 'pos': 'adv(gener)'}, {'form': 'dat', 'lemma': 'dat', 'pos': 'pron(rel)'}, {'form': 'zi', 'lemma': 'zij', 'pos': 'pron(pers,3,sing)'}, {'form': 'hadde', 'lemma': 'hebben', 'pos': 'v(fin,past,lex)'}, {'form': 'ligghende', 'lemma': 'liggen', 'pos': 'v(participle,pres)'}, {'form': 'onder', 'lemma': 'onder', 'pos': 'adp()'}, {'form': 'mire', 'lemma': 'mijn', 'pos': 'pron(poss)'}, {'form': 'joncvrauwe', 'lemma': 'jonkvrouw', 'pos': 'n(sing)'}, {'form': 'vorseit', 'lemma': 'voorgezegd', 'pos': 'adj()'}, {'form': 'in', 'lemma': 'in', 'pos': 'adp()'}, {'form': 'de', 'lemma': 'de', 'pos': 'art(def)'}, {'form': 'prochhie', 'lemma': 'parochie', 'pos': 'n(sing)'}, {'form': 'van', 'lemma': 'van', 'pos': 'adp()'}, {'form': 'langhemarc', 'lemma': 'langemark', 'pos': 'n(prop)'}, {'form': 'vte', 'lemma': 'uit', 'pos': 'adv(gener)'}, {'form': 'ghedaen', 'lemma': 'doen', 'pos': 'v(participle,past)'}, {'form': 'een', 'lemma': 'een', 'pos': 'num(card)'}, {'form': 'ymet', 'lemma': 'gemet', 'pos': 'n(sing)'}, {'form': 'soudlands', 'lemma': 'zoudeldans', 'pos': 'n(sing)'}, {'form': 'dat', 'lemma': 'dat', 'pos': 'pron(dem)'}, {'form': 'blijft', 'lemma': 'blijven', 'pos': 'v(fin,pres,lex)'}, {'form': 'de', 'lemma': 'de', 'pos': 'art(def)'}, {'form': 'vorseide', 'lemma': 'voorzeid', 'pos': 'adj()'}, {'form': 'ucops', 'lemma': 'voorkop', 'pos': 'n(prop)'}, {'form': 'twelke', 'lemma': 'het+welk', 'pos': 'art(def)+pron(rel)'}, {'form': 'land', 'lemma': 'land', 'pos': 'n(sing)'}, {'form': 'iloopt', 'lemma': 'lopen', 'pos': 'v(fin,pres,lex)'}, {'form': 'zesse', 'lemma': 'zes', 'pos': 'num(card)'}, {'form': 'ymeite', 'lemma': 'gemet', 'pos': 'n(plu)'}, {'form': 'litel', 'lemma': 'luttel', 'pos': 'n(sing)'}, {'form': 'min', 'lemma': 'min', 'pos': 'adv(gener)'}, {'form': 'of', 'lemma': 'of', 'pos': 'conj(coord)'}, {'form': 'litel', 'lemma': 'luttel', 'pos': 'adv(gener)'}, {'form': 'meer', 'lemma': 'meer', 'pos': 'adv(gener)'}, {'form': 'En', 'lemma': 'en', 'pos': 'adv(gener)'}, {'form': 'es', 'lemma': 'zijn', 'pos': 'v(fin,pres,aux_cop)'}, {'form': 'ligghende', 'lemma': 'liggen', 'pos': 'v(participle,pres)'}, {'form': 'in', 'lemma': 'in', 'pos': 'adp()'}, {'form': 'de', 'lemma': 'de', 'pos': 'art(def)'}, {'form': 'sticke', 'lemma': 'stuk', 'pos': 'n(sing)'}, {'form': 'en', 'lemma': 'en', 'pos': 'conj(coord)'}, {'form': 'in', 'lemma': 'in', 'pos': 'adp()'}, {'form': 'de', 'lemma': 'de', 'pos': 'art(def)'}, {'form': 'pchelen', 'lemma': 'pichael', 'pos': 'n(plu)'}, {'form': 'hier', 'lemma': 'hier', 'pos': 'pronadv(dem)'}, {'form': 'naer', 'lemma': 'na', 'pos': 'pronadv(prep)'}, {'form': 'genomt', 'lemma': 'noemen', 'pos': 'v(participle,past)'}, {'form': 'dats', 'lemma': 'dat+zijn', 'pos': 'v(fin,pres,lex)+pron(dem)'}, {'form': 'te', 'lemma': 'te', 'pos': 'adp()'}, {'form': 'weitene', 'lemma': 'weten', 'pos': 'v(infin)'}, {'form': 'in', 'lemma': 'in', 'pos': 'adp()'}, {'form': 'een', 'lemma': 'een', 'pos': 'art(indef)'}, {'form': 'stic', 'lemma': 'stuk', 'pos': 'n(sing)'}, {'form': 'lants', 'lemma': 'land', 'pos': 'n(sing)'}, {'form': 'van', 'lemma': 'van', 'pos': 'adp()'}, {'form': 'zesse', 'lemma': 'zes', 'pos': 'num(card)'}, {'form': 'ymete', 'lemma': 'gemet', 'pos': 'n(plu)'}, {'form': 'ligghende', 'lemma': 'liggen', 'pos': 'v(participle,pres)'}, {'form': 'tussche', 'lemma': 'tussen', 'pos': 'adp()'}, {'form': 'ser', 'lemma': 'de+heer', 'pos': 'art(def)+n(sing)'}, {'form': 'jans', 'lemma': 'johannes', 'pos': 'n(prop)'}, {'form': 'van', 'lemma': 'van', 'pos': 'adp()'}, {'form': 'der', 'lemma': 'de', 'pos': 'art(def)'}, {'form': 'meulin', 'lemma': 'meulen', 'pos': 'n(prop)'}, {'form': 'lande', 'lemma': 'land', 'pos': 'n(sing)'}, {'form': 'an', 'lemma': 'aan', 'pos': 'adp()'}, {'form': 'dene', 'lemma': 'de+een', 'pos': 'art(def)+adj()'}, {'form': 'zide', 'lemma': 'zijde', 'pos': 'n(sing)'}, {'form': 'en', 'lemma': 'en', 'pos': 'adp()'}, {'form': 'de', 'lemma': 'de', 'pos': 'art(def)'}, {'form': 'lande', 'lemma': 'land', 'pos': 'n(sing)'}, {'form': 'der', 'lemma': 'de', 'pos': 'art(def)'}, {'form': 'weidewe', 'lemma': 'weduwe', 'pos': 'n(sing)'}, {'form': 'ser', 'lemma': 'de+heer', 'pos': 'art(def)+n(sing)'}, {'form': 'frans', 'lemma': 'frans', 'pos': 'n(prop)'}, {'form': 'van', 'lemma': 'van', 'pos': 'adp()'}, {'form': 'beisslare', 'lemma': 'beislaar', 'pos': 'n(prop)'}, {'form': 'an', 'lemma': 'aan', 'pos': 'adp()'}, {'form': 'dander', 'lemma': 'de+ander', 'pos': 'art(def)+adj()'}, {'form': 'zide', 'lemma': 'zijde', 'pos': 'n(sing)'}, {'form': 'Jte', 'lemma': 'uit', 'pos': 'n(prop)'}, {'form': 'in', 'lemma': 'in', 'pos': 'adp()'}, {'form': 'een', 'lemma': 'een', 'pos': 'art(indef)'}, {'form': 'stic', 'lemma': 'stuk', 'pos': 'n(sing)'}, {'form': 'lands', 'lemma': 'land', 'pos': 'n(sing)'}, {'form': 'van', 'lemma': 'van', 'pos': 'adp()'}, {'form': 'drien', 'lemma': 'drie', 'pos': 'num(card)'}, {'form': 'ymete', 'lemma': 'gemet', 'pos': 'n(plu)'}, {'form': 'ligghende', 'lemma': 'liggen', 'pos': 'v(participle,pres)'}, {'form': 'tussche', 'lemma': 'tussen', 'pos': 'adp()'}, {'form': 'fense', 'lemma': 'fens', 'pos': 'n(prop)'}, {'form': 'ghoedybeurs', 'lemma': 'goedgebuur', 'pos': 'n(prop)'}, {'form': 'lande', 'lemma': 'land', 'pos': 'n(sing)'}, {'form': 'an', 'lemma': 'aan', 'pos': 'adp()'}, {'form': 'dene', 'lemma': 'de+een', 'pos': 'art(def)+adj()'}, {'form': 'zide', 'lemma': 'zijde', 'pos': 'n(sing)'}, {'form': 'en', 'lemma': 'en', 'pos': 'adp()'}, {'form': 'de', 'lemma': 'de', 'pos': 'art(def)'}, {'form': 'lande', 'lemma': 'land', 'pos': 'n(sing)'}, {'form': 'adelijsse', 'lemma': 'adelheid', 'pos': 'n(prop)'}, {'form': 'van', 'lemma': 'van', 'pos': 'adp()'}, {'form': 'den', 'lemma': 'de', 'pos': 'art(def)'}, {'form': 'ghilthuse', 'lemma': 'gildehuis', 'pos': 'n(prop)'}, {'form': 'an', 'lemma': 'aan', 'pos': 'adp()'}, {'form': 'dander', 'lemma': 'de+ander', 'pos': 'art(def)+adj()'}, {'form': 'zide', 'lemma': 'zijde', 'pos': 'n(sing)'}, {'form': 'Jte', 'lemma': 'uit', 'pos': 'n(prop)'}, {'form': 'in', 'lemma': 'in', 'pos': 'adp()'}, {'form': 'een', 'lemma': 'een', 'pos': 'art(indef)'}, {'form': 'stic', 'lemma': 'stuk', 'pos': 'n(sing)'}, {'form': 'lands', 'lemma': 'land', 'pos': 'n(sing)'}, {'form': 'van', 'lemma': 'van', 'pos': 'adp()'}, {'form': 'viere', 'lemma': 'vier', 'pos': 'num(card)'}, {'form': 'ymeite', 'lemma': 'gemet', 'pos': 'n(plu)'}, {'form': 'ligghende', 'lemma': 'liggen', 'pos': 'v(participle,pres)'}, {'form': 'tussche', 'lemma': 'tussen', 'pos': 'adp()'}, {'form': 'de', 'lemma': 'de', 'pos': 'art(def)'}, {'form': 'lande', 'lemma': 'land', 'pos': 'n(sing)'}, {'form': 'Jans', 'lemma': 'hand', 'pos': 'n(prop)'}, {'form': 'van', 'lemma': 'van', 'pos': 'adp()'}, {'form': 'der', 'lemma': 'de', 'pos': 'art(def)'}, {'form': 'brigghe', 'lemma': 'brug', 'pos': 'n(sing)'}, {'form': 'an', 'lemma': 'aan', 'pos': 'adp()'}, {'form': 'dene', 'lemma': 'de+een', 'pos': 'art(def)+adj()'}, {'form': 'zide', 'lemma': 'zijde', 'pos': 'n(sing)'}, {'form': 'en', 'lemma': 'en', 'pos': 'adp()'}, {'form': 'den', 'lemma': 'het', 'pos': 'art(def)'}, {'form': 'lande', 'lemma': 'land', 'pos': 'n(sing)'}, {'form': 'pauwels', 'lemma': 'paulus', 'pos': 'n(prop)'}, {'form': 'hughemas', 'lemma': 'hugoma', 'pos': 'n(prop)'}, {'form': 'kindre', 'lemma': 'kind', 'pos': 'n(plu)'}, {'form': 'an', 'lemma': 'aan', 'pos': 'adp()'}, {'form': 'dander', 'lemma': 'de+ander', 'pos': 'art(def)+adj()'}, {'form': 'zide', 'lemma': 'zijde', 'pos': 'n(sing)'}, {'form': 'Ende', 'lemma': 'eind', 'pos': 'conj(coord)'}, {'form': 'in', 'lemma': 'in', 'pos': 'adp()'}, {'form': 'een', 'lemma': 'een', 'pos': 'num(card)'}, {'form': 'ymet', 'lemma': 'gemet', 'pos': 'n(sing)'}, {'form': 'lands', 'lemma': 'land', 'pos': 'n(sing)'}, {'form': 'ligghende', 'lemma': 'liggen', 'pos': 'v(participle,pres)'}, {'form': 'tussche', 'lemma': 'tussen', 'pos': 'adp()'}, {'form': 'heinrijc', 'lemma': 'hendrik', 'pos': 'n(prop)'}, {'form': 'sgroten', 'lemma': 'de+groot', 'pos': 'art(def)+n(prop)'}, {'form': 'lande', 'lemma': 'land', 'pos': 'n(sing)'}, {'form': 'an', 'lemma': 'aan', 'pos': 'adp()'}, {'form': 'bede', 'lemma': 'beide', 'pos': 'num(card)'}, {'form': 'zide', 'lemma': 'zijde', 'pos': 'n(sing)'}, {'form': 'van', 'lemma': 'van', 'pos': 'adp()'}, {'form': 'den', 'lemma': 'de', 'pos': 'art(def)'}, {'form': 'welke', 'lemma': 'welk', 'pos': 'pron(rel)'}, {'form': 'lande', 'lemma': 'land', 'pos': 'n(plu)'}, {'form': 'voerseid', 'lemma': 'voorgezegd', 'pos': 'adj()'}, {'form': 'de', 'lemma': 'de', 'pos': 'art(def)'}, {'form': 'voerseide', 'lemma': 'voorgezegd', 'pos': 'adj()'}, {'form': 'vercops', 'lemma': 'verkoop', 'pos': 'n(sing)'}, {'form': 'sien', 'lemma': 'zijn', 'pos': 'v(fin,pres,aux_cop)'}, {'form': 'wel', 'lemma': 'wel', 'pos': 'adv(gener)'}, {'form': 'verghoude', 'lemma': 'vergelden', 'pos': 'v(participle,past)'}, {'form': 'En', 'lemma': 'en', 'pos': 'adp()'}, {'form': 'hebbens', 'lemma': 'hebben+dat', 'pos': 'v(fin,pres,aux_cop)+pron(pers,3,sing)'}, {'form': 'halm', 'lemma': 'halm', 'pos': 'n(sing)'}, {'form': 'en', 'lemma': 'en', 'pos': 'art(indef)'}, {'form': 'ghifte', 'lemma': 'gift', 'pos': 'n(sing)'}, {'form': 'gheworpe', 'lemma': 'werpen', 'pos': 'n(prop)'}, {'form': 'de', 'lemma': 'de', 'pos': 'art(def)'}, {'form': 'vorseide', 'lemma': 'voorzeid', 'pos': 'adj()'}, {'form': 'Jacob', 'lemma': 'akober', 'pos': 'n(prop)'}, {'form': 'gherboude', 'lemma': 'gerboud', 'pos': 'n(prop)'}, {'form': 'wel', 'lemma': 'wel', 'pos': 'adv(gener)'}, {'form': 'en', 'lemma': 'en', 'pos': 'art(indef)'}, {'form': 'wettelike', 'lemma': 'wettelijk', 'pos': 'adv(gener)'}, {'form': 'also', 'lemma': 'alzo', 'pos': 'adv(dem)'}, {'form': 'costume', 'lemma': 'kostuum', 'pos': 'n(sing)'}, {'form': 'en', 'lemma': 'en', 'pos': 'art(indef)'}, {'form': 'vsage', 'lemma': 'usage', 'pos': 'n(sing)'}, {'form': 'es', 'lemma': 'zijn', 'pos': 'v(fin,pres,aux_cop)'}, {'form': 'onder', 'lemma': 'onder', 'pos': 'adp()'}, {'form': 'mire', 'lemma': 'mijn', 'pos': 'pron(poss)'}, {'form': 'joncvrauwe', 'lemma': 'jonkvrouw', 'pos': 'n(sing)'}, {'form': 'van', 'lemma': 'van', 'pos': 'adp()'}, {'form': 'pasquendale', 'lemma': 'passenvada', 'pos': 'n(prop)'}, {'form': 'vorseit', 'lemma': 'voorgezegd', 'pos': 'adj()'}, {'form': 'En', 'lemma': 'en', 'pos': 'adv(neg)'}, {'form': 'hebbens', 'lemma': 'hebben+het', 'pos': 'v(fin,pres,aux_cop)+pron(pers,3,sing)'}, {'form': 'hem', 'lemma': 'hij', 'pos': 'pron(pers,3,sing)'}, {'form': 'ywed', 'lemma': 'iet', 'pos': 'v(participle,past)'}, {'form': 'en', 'lemma': 'ne', 'pos': 'adv(neg)'}, {'form': 'belooft', 'lemma': 'beloven', 'pos': 'v(fin,pres,lex)'}, {'form': 'ywarscep', 'lemma': 'waarschap', 'pos': 'n(sing)'}, {'form': 'van', 'lemma': 'van', 'pos': 'adp()'}, {'form': 'alle', 'lemma': 'al', 'pos': 'num(indef)'}, {'form': 'calaighne', 'lemma': 'calange', 'pos': 'n(plu)'}, {'form': 'ieghe', 'lemma': 'jegen', 'pos': 'num(indef)'}, {'form': 'alle', 'lemma': 'al', 'pos': 'num(indef)'}, {'form': 'liede', 'lemma': 'lieden', 'pos': 'n(plu)'}, {'form': 'quite', 'lemma': 'kwijt', 'pos': 'adj()'}, {'form': 'land', 'lemma': 'land', 'pos': 'n(sing)'}, {'form': 'ome', 'lemma': 'om', 'pos': 'adv(gener)'}, {'form': 'quite', 'lemma': 'kwijt', 'pos': 'adj()'}, {'form': 'ghelt', 'lemma': 'geld', 'pos': 'n(sing)'}, {'form': 'behoude', 'lemma': 'behouden', 'pos': 'v(participle,past)'}, {'form': 'shere', 'lemma': 'de+heer', 'pos': 'art(def)+n(sing)'}, {'form': 'chens', 'lemma': 'cijns', 'pos': 'n(sing)'}, {'form': 'van', 'lemma': 'van', 'pos': 'adp()'}, {'form': 'de', 'lemma': 'de', 'pos': 'art(def)'}, {'form': 'lande', 'lemma': 'land', 'pos': 'n(sing)'}, {'form': 'diere', 'lemma': 'die+er', 'pos': 'pron(rel)+pronadv(pers)'}, {'form': 'vte', 'lemma': 'uit', 'pos': 'pronadv(prep)'}, {'form': 'ghaet', 'lemma': 'gaan', 'pos': 'v(fin,pres,lex)'}, {'form': 'Jn', 'lemma': 'in', 'pos': 'art(indef)'}, {'form': 'orconscepe', 'lemma': 'oorkondschap', 'pos': 'n(sing)'}, {'form': 'ende', 'lemma': 'en', 'pos': 'conj(coord)'}, {'form': 'ghedaen', 'lemma': 'doen', 'pos': 'v(participle,past)'}, {'form': 'int', 'lemma': 'in+het', 'pos': 'adp()+art(def)'}, {'form': 'Jaer', 'lemma': 'haar', 'pos': 'n(sing)'}, {'form': 'ons', 'lemma': 'ons', 'pos': 'pron(poss)'}, {'form': 'here', 'lemma': 'heer', 'pos': 'n(sing)'}, {'form': 'als', 'lemma': 'als', 'pos': 'conj(subord)'}, {'form': 'me', 'lemma': 'men', 'pos': 'pron(indef)'}, {'form': 'screef', 'lemma': 'schrijven', 'pos': 'v(fin,past,lex)'}, {'form': '.m.ccc.', 'lemma': '1300', 'pos': 'num(card)'}, {'form': 'twe', 'lemma': 'twee', 'pos': 'num(card)'}, {'form': 'en', 'lemma': 'en', 'pos': 'conj(coord)'}, {'form': 'dertech', 'lemma': 'dertig', 'pos': 'num(card)'}, {'form': 'in', 'lemma': 'in', 'pos': 'adp()'}, {'form': 'laumaent', 'lemma': 'louwmaand', 'pos': 'n(prop)'}, {'form': 'smaendaeghs', 'lemma': 'de+maandag', 'pos': 'art(def)+n(sing)'}, {'form': 'vor', 'lemma': 'voor', 'pos': 'adp()'}, {'form': 'sinte', 'lemma': 'sint', 'pos': 'adj()'}, {'form': 'vissensis', 'lemma': 'visentis', 'pos': 'n(prop)'}, {'form': 'dach', 'lemma': 'dag', 'pos': 'n(sing)'}]\n"
     ]
    }
   ],
   "source": [
    "from typing import List\n",
    "from pie_extended.cli.utils import get_tagger, get_model, download\n",
    "\n",
    "# In case you need to download\n",
    "# do_download = False\n",
    "# if do_download:\n",
    "#     for dl in download(\"dum\"):\n",
    "#         x = 1\n",
    "\n",
    "# model_path allows you to override the model loaded by another .tar\n",
    "model_name = \"dum\"\n",
    "tagger = get_tagger(model_name, batch_size=256, device=\"cpu\")\n",
    "\n",
    "sentences: List[str] = [get_flattext(tree)]\n",
    "# Get the main object from the model (: data iterator + postprocesor\n",
    "from pie_extended.models.dum.imports import get_iterator_and_processor\n",
    "for sentence_group in sentences:\n",
    "    iterator, processor = get_iterator_and_processor()\n",
    "    thing = tagger.tag_str(sentence_group, iterator=iterator, processor=processor)\n",
    "    print(thing)"
   ]
  },
  {
   "cell_type": "code",
   "execution_count": 3,
   "id": "aa419821",
   "metadata": {},
   "outputs": [
    {
     "name": "stdout",
     "output_type": "stream",
     "text": [
      "WiE {pauwels} {vlaminc} mich de ghier {fense} {ghoedybeur} {jan} de {wale} en {clais} de {hane} scepene mire joncvrowe van {pasquedale} in de prochhie van {langhemarc} doen te weitene alle deghone die deise lette {zulle} zien of hore leisen dat {jacob} {gherboud} porte van {yppre} heift ghecocht en ghecreghe Eruelike wel en wettelike te zine bouf en te sijns hoirs bouf jeghe {janne} de amman ser {jans} zone en ieghe coste zin wijf jeghen {clais} {boitac} labrechtszone en ieghe {lisebette} zin wijf en ieghe piet {keyen} {willems} zone en ieghe {jakemine} zin wijf olle {ports} van {ypre} al tlant gheheel dat zi hadde ligghende onder mire joncvrauwe vorseit in de prochhie van {langhemarc} vte ghedaen een ymet soudlands dat blijft de vorseide {ucops} twelke land iloopt zesse ymeite litel min of litel meer En es ligghende in de sticke en in de pchelen hier naer genomt dats te weitene in een stic lants van zesse ymete ligghende tussche ser {jans} van der {meulin} lande an dene zide en de lande der weidewe ser {frans} van {beisslare} an dander zide {Jte} in een stic lands van drien ymete ligghende tussche {fense} {ghoedybeurs} lande an dene zide en de lande {adelijsse} van den {ghilthuse} an dander zide {Jte} in een stic lands van viere ymeite ligghende tussche de lande {Jans} van der brigghe an dene zide en den lande {pauwels} {hughemas} kindre an dander zide Ende in een ymet lands ligghende tussche {heinrijc} sgroten lande an bede zide van den welke lande voerseid de voerseide vercops sien wel verghoude En hebbens halm en ghifte {gheworpe} de vorseide {Jacob} {gherboude} wel en wettelike also costume en vsage es onder mire joncvrauwe van {pasquendale} vorseit En hebbens hem ywed en belooft ywarscep van alle calaighne ieghe alle liede quite land ome quite ghelt behoude shere chens van de lande diere vte ghaet Jn orconscepe ende ghedaen int Jaer ons here als me screef .m.ccc. twe en dertech in {laumaent} smaendaeghs vor sinte {vissensis} dach\n",
      "WiE {pauwels} {vlaminc} {mich} {de ghier} {fense} {ghoedybeur} {jan} {de wale} en {clais} {de hane} scepene mire joncvrowe van {pasquedale} in de prochhie van {langhemarc} doen te weitene alle deghone die deise lette zulle zien of hore leisen dat {jacob} {gherboud} porte van {yppre} heift ghecocht en ghecreghe Eruelike wel en wettelike te zine bouf en te sijns hoirs bouf jeghe {janne} {de amman} ser {jans} zone en ieghe {coste} zin wijf jeghen {clais} {boitac} {labrechtszone} en ieghe {lisebette} zin wijf en ieghe {piet} {keyen} {willems} zone en ieghe {jakemine} zin wijf olle ports van {ypre} al tlant gheheel dat zi hadde ligghende onder mire joncvrauwe vorseit in de prochhie van {langhemarc} vte ghedaen een ymet soudlands dat blijft de vorseide ucops twelke land iloopt zesse ymeite litel min of litel meer En es ligghende in de sticke en in de pchelen hier naer genomt dats te weitene in een stic lants van zesse ymete ligghende tussche ser {jans} {van der meulin} lande an dene zide en de lande der weidewe ser {frans} {van beisslare} an dander zide Jte in een stic lands van drien ymete ligghende tussche {fense} {ghoedybeurs} lande an dene zide en de lande {adelijsse} {van den ghilthuse} an dander zide Jte in een stic lands van viere ymeite ligghende tussche de lande {Jans} {van der brigghe} an dene zide en den lande {pauwels} {hughemas} kindre an dander zide Ende in een ymet lands ligghende tussche {heinrijc} {sgroten} lande an bede zide van den welke lande voerseid de voerseide vercops sien wel verghoude En hebbens halm en ghifte gheworpe de vorseide {Jacob} {gherboude} wel en wettelike also costume en vsage es onder mire joncvrauwe van {pasquendale} vorseit En hebbens hem ywed en belooft ywarscep van alle calaighne ieghe alle liede quite land ome quite ghelt behoude shere chens van de lande diere vte ghaet Jn orconscepe ende ghedaen int Jaer ons here als me screef .m.ccc. twe en dertech in {laumaent} smaendaeghs vor {sinte vissensis dach}\n"
     ]
    }
   ],
   "source": [
    "# print(thing)\n",
    "lst = []\n",
    "\n",
    "# print(thing)\n",
    "\n",
    "for dct in thing:\n",
    "#     print(f\"lemma = {dct['lemma']}\")\n",
    "    if dct['pos'] == 'n(prop)':\n",
    "        ent = '{'+ dct['form'] + '}'\n",
    "        lst.append(ent)\n",
    "    else:\n",
    "        lst.append(dct['form'])\n",
    "\n",
    "txt_with_ents_pie = ' '.join(lst)\n",
    "txt_with_ents_true = get_text_with_ents(tree)\n",
    "\n",
    "print(txt_with_ents_pie)\n",
    "print(txt_with_ents_true)\n",
    "\n",
    "ents = []\n",
    "for dct in thing:\n",
    "#     print(f\"lemma = {dct['lemma']}\")\n",
    "    if dct['pos'] == 'n(prop)':\n",
    "        ent = dct['form']\n",
    "        ents.append(ent)\n",
    "\n",
    "ents2 = get_ents_list(tree)"
   ]
  },
  {
   "cell_type": "code",
   "execution_count": 4,
   "id": "97975dcc",
   "metadata": {},
   "outputs": [
    {
     "name": "stdout",
     "output_type": "stream",
     "text": [
      "['pauwels', 'vlaminc', 'fense', 'ghoedybeur', 'jan', 'wale', 'clais', 'hane', 'pasquedale', 'langhemarc', 'zulle', 'jacob', 'gherboud', 'yppre', 'janne', 'jans', 'clais', 'boitac', 'lisebette', 'keyen', 'willems', 'jakemine', 'ports', 'ypre', 'langhemarc', 'ucops', 'jans', 'meulin', 'frans', 'beisslare', 'Jte', 'fense', 'ghoedybeurs', 'adelijsse', 'ghilthuse', 'Jte', 'Jans', 'pauwels', 'hughemas', 'heinrijc', 'gheworpe', 'Jacob', 'gherboude', 'pasquendale', 'laumaent', 'vissensis'] ['pauwels', 'vlaminc', 'mich', 'de ghier', 'fense', 'ghoedybeur', 'jan', 'de wale', 'clais', 'de hane', 'pasquedale', 'langhemarc', 'jacob', 'gherboud', 'yppre', 'janne', 'de amman', 'jans', 'coste', 'clais', 'boitac', 'labrechtszone', 'lisebette', 'piet', 'keyen', 'willems', 'jakemine', 'ypre', 'langhemarc', 'jans', 'van der meulin', 'frans', 'van beisslare', 'fense', 'ghoedybeurs', 'adelijsse', 'van den ghilthuse', 'Jans', 'van der brigghe', 'pauwels', 'hughemas', 'heinrijc', 'sgroten', 'Jacob', 'gherboude', 'pasquendale', 'laumaent', 'sinte vissensis dach']\n"
     ]
    },
    {
     "data": {
      "text/plain": [
       "(46, 48)"
      ]
     },
     "execution_count": 4,
     "metadata": {},
     "output_type": "execute_result"
    }
   ],
   "source": [
    "print(ents, ents2)\n",
    "len(ents), len(ents2)"
   ]
  },
  {
   "cell_type": "code",
   "execution_count": 20,
   "id": "862c9a47",
   "metadata": {},
   "outputs": [],
   "source": [
    "# import spacy\n",
    "\n",
    "# nlp = spacy.load(\"nl_core_news_sm\")"
   ]
  },
  {
   "cell_type": "code",
   "execution_count": 22,
   "id": "295bca9a",
   "metadata": {},
   "outputs": [
    {
     "name": "stdout",
     "output_type": "stream",
     "text": [
      "zes\n",
      "zes\n",
      "drie\n",
      "vier\n",
      "akober gerboud\n",
      "1300\n",
      "twee\n",
      "dertig\n"
     ]
    }
   ],
   "source": [
    "# doc = nlp(txt)\n",
    "\n",
    "# for ent in doc.ents:\n",
    "#     print(ent)"
   ]
  },
  {
   "cell_type": "code",
   "execution_count": null,
   "id": "6383740f",
   "metadata": {},
   "outputs": [],
   "source": []
  }
 ],
 "metadata": {
  "kernelspec": {
   "display_name": "Python 3",
   "language": "python",
   "name": "python3"
  },
  "language_info": {
   "codemirror_mode": {
    "name": "ipython",
    "version": 3
   },
   "file_extension": ".py",
   "mimetype": "text/x-python",
   "name": "python",
   "nbconvert_exporter": "python",
   "pygments_lexer": "ipython3",
   "version": "3.8.8"
  }
 },
 "nbformat": 4,
 "nbformat_minor": 5
}
