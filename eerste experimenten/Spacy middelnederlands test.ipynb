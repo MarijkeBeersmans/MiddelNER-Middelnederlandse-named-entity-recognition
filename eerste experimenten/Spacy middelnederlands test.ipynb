{
 "cells": [
  {
   "cell_type": "markdown",
   "id": "2cb77328",
   "metadata": {},
   "source": [
    "# SpaCy en Middelnederlands"
   ]
  },
  {
   "cell_type": "markdown",
   "id": "4d4c387e",
   "metadata": {},
   "source": [
    "SpaCy is een Open Source natural language processing library. Het is een bekende en performante tool voor onder andere tokenization, part-of-speech tagging, named entity recognition en parsing en ondersteunt meerdere, moderne talen. In dit notebook wordt er kort onderzocht hoe goed SpaCy kan gebruikt worden voor Middelnederlands."
   ]
  },
  {
   "cell_type": "code",
   "execution_count": 6,
   "id": "877dbefc",
   "metadata": {},
   "outputs": [
    {
     "name": "stdout",
     "output_type": "stream",
     "text": [
      "NASA ORG\n",
      "Elon Musk’s PERSON\n",
      "$2.9 billion MONEY\n"
     ]
    }
   ],
   "source": [
    "# !pip install spacy\n",
    "# !pip install \"https://github.com/explosion/spacy-models/releases/download/en_core_web_sm-3.0.0/en_core_web_sm-3.0.0.tar.gz\"\n",
    "import spacy\n",
    "\n",
    "nlp = spacy.load(\"en_core_web_sm\")\n",
    "\n",
    "doc = nlp(\"NASA awarded Elon Musk’s SpaceX a $2.9 billion contract to build the lunar lander.\")\n",
    "\n",
    "#\n",
    "for ent in doc.ents:\n",
    "    print(ent.text,  ent.label_)"
   ]
  },
  {
   "cell_type": "code",
   "execution_count": 7,
   "id": "a66600a6",
   "metadata": {},
   "outputs": [
    {
     "name": "stdout",
     "output_type": "stream",
     "text": [
      "Sente Baues PERSON\n",
      "Gilise den Scoutete PERSON\n",
      "Seggen GPE\n",
      "Seggen GPE\n",
      "Sente Baues PERSON\n",
      "Soens Shelechs PERSON\n",
      "Scoutete es Sculdech Scepenen LOC\n",
      "Ende Dabt GPE\n",
      "Newaer PERSON\n",
      "Scoutete FAC\n",
      "Newaer GPE\n",
      "Scepenen PERSON\n",
      "Also PERSON\n",
      "Newaer GPE\n",
      "Sekerhede PERSON\n",
      "Scoutete PERSON\n",
      "Worde GPE\n",
      "Dabt den Scoutete PERSON\n",
      "Ende de Scoutete PERSON\n",
      "Sabbets PERSON\n",
      "Ende GPE\n",
      "Ware PERSON\n",
      "Scepenen PERSON\n",
      "Ende GPE\n",
      "Scoutete PERSON\n",
      "Scoutete PERSON\n",
      "Newaer GPE\n",
      "Ende GPE\n",
      "Soudet de bode ORG\n",
      "Dabt PERSON\n",
      "Scoutete PERSON\n",
      "Van PERSON\n",
      "Scoutete FAC\n",
      "Name PERSON\n",
      "Scoutete FAC\n",
      "Bleue GPE\n",
      "Scepenen PERSON\n",
      "Scoutete FAC\n",
      "Negeen PERSON\n",
      "Ende GPE\n",
      "Gebiedene GPE\n",
      "Siene GPE\n",
      "Scepenen PERSON\n",
      "Scepenen PERSON\n",
      "derde ORDINAL\n",
      "Scoutete LOC\n",
      "Scoutete LOC\n",
      "Scepenen PERSON\n",
      "Scepenen PERSON\n",
      "Scepenen PERSON\n",
      "Alse NORP\n",
      "Scoutete PERSON\n",
      "Scoutete PERSON\n",
      "Sente Bauen GPE\n",
      "dienstliede CARDINAL\n",
      "Ende i d in Sente WORK_OF_ART\n",
      "Scoutete LOC\n",
      "Sitten bi den ontfangere met scepenen kiesen tgelt name hit ongaue hi WORK_OF_ART\n",
      "Gans NORP\n",
      "Sitten bi den ontfangere met scepenen kiesen tgelt doent goet waert ongaue WORK_OF_ART\n",
      "An PERSON\n",
      "Scoutete FAC\n",
      "Gasthus GPE\n",
      "An PERSON\n",
      "Sente Baues PERSON\n",
      "Scoutete LOC\n",
      "Scoutete FAC\n",
      "Ginghirejegen GPE\n",
      "Seghere Deken van Ghent PERSON\n",
      "Segel PERSON\n",
      "Smanendages PERSON\n",
      "Sente Baues PERSON\n"
     ]
    }
   ],
   "source": [
    "# python -m spacy download nl_core_news_sm\n",
    "import spacy\n",
    "\n",
    "# nlp = spacy.load(\"nl_core_news_sm\")\n",
    "nlp = spacy.load(\"nl_core_news_sm\")\n",
    "\n",
    "text = \"Ombe tujst die was tusschen den Gotshuse van Sente Baues Gilise den Scoutete uan Sente Baues te beuelne ombedat elc wilde weten sin recht So Ghingensis bede up minsser willems Seggen van maldengem minsSer huges Seggen uan steenlant up volcouts meiers seggen van Sente Baues si hebben elkerlijcs recht ondersceden also alse hier es gescreuen Jn de name suader Soens Shelechs gheests Ende si hebben gheseit Dat de Scoutete es Sculdech Scepenen te maenne jn allen steden daer mense sculdech es te manne Ende Dabt es Sculdech daer te hebbene sinen bode daer te wesene alse here Ende dingere jof hi wille Ende also ghelike uan den eeden te stauene Newaer de Scoutete en mach deede njet stauen also alse hi wille Newaer also alse Scepenen recht dinct Also gelike uan zekerheden tontfane Newaer alse sulke Sekerhede alse den abt genoeget moet den Scoutete genoegen van onghewisden dingen behouden sinen rechte Dat recht es Worde mesdaet gewiset an dien man dat Dabt den Scoutete antworde dies mans jof sins deels uan der mesdaet Ende de Scoutete en mach njemene borgen no laten gaen die hem wert gewiset te houdene bi wette van ongewisden dingen sonder Sabbets orlof het ne ware uan hauen Ende de scoutete nes sculdech te houdene negenen man dien dabt uaet bi heereden jof bi mannevonnesse Ware in eregherstede dabt jof sin bode scepenen daer de scoutete njet ne ware So mochte dabt jof sin bode maken enen maenre up die wile met Scepenen behouden scouteten rechte Ende waert uan onversinliken dingen so Soudemen soeken den Scoutete jof sinen bode thenen hus dat hi core int dorp dat hus moet hi nomen van jare te jare Ende waert ombe sake die geboden ware ter kerken up nameliken dach met scepenen daerombe en soudemen den Scoutete njet soeken Newaer maken enen maenre alse vorseit es Ende worde tujst jof de scoutete gesocht ware jof ne ware so Soudet de bode nemen up sinen eet jof hine sochte sonder meer toe te doene Dabt mach maken leedsman van sinen heere wienso hi wille de scoutete moet medeuaren alse Scoutete hebben ghelijc andren mannen Van manne te ontliuene jof lijctekin te makene dat es sculdech de Scoutete te doene jof sin bode Ende ware iemen gewiset te ontliuene jof lijctekin te makene dat mach dabt quite laten sonder den scoutete het neware jof dabt ghelt deraf name Name dabt ghelt deraf so ware de Scoutete sculdech te hebbene sin derdendeel uan der mesdaet Bleue enech man in hachten metten scoutete bi wisdome uan Scepenen van dien man es de Scoutete sculdech te hebbene xii d elx dages njet meer daerombe moet hi hem geuen redenlike behoefte Negeen gebot es de scoutete sculdech te gebiedene sonder den abt jof sinen bode sonder sin gheheet het ne ware loke te scouwene waterlaet daer mach dabt hebben sinen bode wil hi te siene jof men recht doet de scoutete moet gebieden scouwen updietijtdat het scepenen nutte dinct Ende lant te Gebiedene pande te uerbiedene ende ten derden gebode uan den panden eiset de scoutete sculdech te latene weten den abt jof sinen bode ombe te Siene jof de pande iet beter sin dane tgelt daer mense ouer heft Van allen mesdaden van iij sol die Scepenen wisen jof hoeso si uallen es de scoutete sculdech te hebbene den derden penninc njet meer sonder uan loken te scouwene waterlate van hachtingen van pandingen dat daeraf Scepenen wisen dat es Scouteten allene tote iij sol Ende van allen meerre saken es de derde penninc Scouteten Ende also gelike van allen goede dat men vint Ende worde leuende beeste uonden die soudemen houden met gemenen rade der heerscepe der Scepenen metten minsten coste totediendatter wet mede ware gedaen loke te scouwene waterlaet dat es Scouteten recht up doude njet vorder ende dabt mach daer hebben sinen bode wilhi ende geuielt dat men vorder scouwen soude loke jof waterlaet so waer het scouteten recht njemens el gelijc den ouden te scouwene Neghene hachtinge mach de scoutete doen sonder scepenen ende sabbets bode jof hire wesen wille het ne ware van uremden van vluchtegen jof die tujst hadde gemaect daer mach de Scoutete hant ane Slaen sonder scepenen sabbets bode die moet hi bringen voruoets vor scepenen sabbets bode alse wet mede te doene Ende sabbets bode moet de Scoutete soeken ter kemenaden en vondemen sabbets bode njet jof en wilde hi niet comen so mach de scoutete die hachtinge wel doen bi maningen uan scepenen sonder sabbets bode Ende worde tujst ombe tsoeken dat soude de bode nemen up sinen eet dat hine daer sochte sonder meer toe te doene Negene pandinge mach de scoutete doen sonder Scepenen sabbets bode jof hire wesen wille dien bode moet de scoutete eschen ter kemenaden ne vondemene njet jof en wilde hi njet comen so mach de scoutete panden met Scepenen sonder Sabbets bode Vp goet uan der costrijen jof uan der kelrijen jof der fermerien ne mach de scoutete njet panden het ne ware ombe gewisde mesdaet jof ombe dinc die men cuerde bi gemenen rade van Scepenen No hachtinge doen het ne ware uan vluchtegen goede ende dat uremder liede ware jof uan tujste Alse men gebiet gedeel daer es sculdech te wesene de scoutete scepenen sabbets bode up dien dach jof hire wesen wille Ende daeraf es men den Scoutete scepenen sculdech te voedene i mael redenleke of sijt nemen willen Jn allen desen steden die hier uornoemt sin so mach de Scoutete setten sinen bode bi wette te doene gelijc hem Seluen Alle de ghene die behoren te Sente Bauen te ij d jaerlix geboren sin binnen der vogedien wonen derinne dat es Scouteten recht uan dien ij d jaerlix vi d alsi huwen xii d alsi steruen Alle degene die staen ten besten hoefstoele dat es scouteten recht alsi steruen ij sol an den besten hoefstoel sonder van den genen die stonden ten besten hoefstoele eer dabt alle sine dienstliede Sette ten besten hoefstoele Van den maendachlande van den wedelande dat es scouteten recht i d jn wittendonresdage van den bunre Ende i d uan iij bunren in meidage Ende i d in Sente martinsdage van den bunre Van desen es sculdech de Scoutete viii sol jn wittendonresdage viij sol in Sente martinsdage den abt Van elker balchfart es scouteten recht ij sol daerombe moet hi Sitten bi den ontfangere met scepenen kiesen tgelt name hit ongaue hi eist sculdech goet te doene Van den groten chense es scouteten recht iiij sol ende i Gans metten geroue i virdale wins ij herenbrot daerombe moet hi Sitten bi den ontfangere met scepenen kiesen tgelt doent goet waert ongaue An de vetteme es scouteten recht iiij sol alse lange alse mense neemt lietese Dabt quite so ne haddere de Scoutete njet an Jn kermesdage es Scouteten recht tetene upt Gasthus met ij cnapen niet meer alse sulke spise alse men andren cnapen geuet An de scutterie van mendonc no van Sente Baues so ne heft de Scoutete geen recht Ende lant heft de Scoutete te lene van den Gotshuse alse uele alse hi bi wette mach betogen Wi vinderen die hier uornoemt sin seggen dat dit dat hier gescreuen es es scouteten leen wi seggen dat hit aldus alset hier gescreuen staet es Sculdech te houdene Ginghirejegen dat moeste hi boeten betren also alse den mannen recht dochte bi gemaenden eede Jn orconscepe van al desen So hebict willem here van maldengem ic huge die men heet here van steenlant riddren ic Seghere Deken van Ghent bi volcouts meiers bede van sente baues ombedat hi negenen Segel heft besegelt met onsen Segelen dit was besegelt besceden jnt jaer van den carnatione mcctuendeviftech Smanendages na reminiscere ombe de meerre vastheden heuet tcoeuent dabt van Sente Baues besegelt met haren Segelen\"\n",
    "\n",
    "doc = nlp(text)\n",
    "for ent in doc.ents:\n",
    "    print(ent.text,  ent.label_)"
   ]
  },
  {
   "cell_type": "markdown",
   "id": "9c223841",
   "metadata": {},
   "source": [
    "## SpaCy op de test set"
   ]
  },
  {
   "cell_type": "code",
   "execution_count": 8,
   "id": "eea6a6bb",
   "metadata": {},
   "outputs": [
    {
     "data": {
      "text/html": [
       "<div>\n",
       "<style scoped>\n",
       "    .dataframe tbody tr th:only-of-type {\n",
       "        vertical-align: middle;\n",
       "    }\n",
       "\n",
       "    .dataframe tbody tr th {\n",
       "        vertical-align: top;\n",
       "    }\n",
       "\n",
       "    .dataframe thead th {\n",
       "        text-align: right;\n",
       "    }\n",
       "</style>\n",
       "<table border=\"1\" class=\"dataframe\">\n",
       "  <thead>\n",
       "    <tr style=\"text-align: right;\">\n",
       "      <th></th>\n",
       "      <th>0</th>\n",
       "      <th>1</th>\n",
       "      <th>2</th>\n",
       "      <th>3</th>\n",
       "      <th>4</th>\n",
       "    </tr>\n",
       "  </thead>\n",
       "  <tbody>\n",
       "    <tr>\n",
       "      <th>0</th>\n",
       "      <td>wie</td>\n",
       "      <td>O</td>\n",
       "      <td>688</td>\n",
       "      <td>H072p40001</td>\n",
       "      <td>140</td>\n",
       "    </tr>\n",
       "    <tr>\n",
       "      <th>1</th>\n",
       "      <td>suster</td>\n",
       "      <td>O</td>\n",
       "      <td>688</td>\n",
       "      <td>H072p40001</td>\n",
       "      <td>140</td>\n",
       "    </tr>\n",
       "    <tr>\n",
       "      <th>2</th>\n",
       "      <td>lisebette</td>\n",
       "      <td>B-PERS</td>\n",
       "      <td>688</td>\n",
       "      <td>H072p40001</td>\n",
       "      <td>140</td>\n",
       "    </tr>\n",
       "    <tr>\n",
       "      <th>3</th>\n",
       "      <td>bi</td>\n",
       "      <td>O</td>\n",
       "      <td>688</td>\n",
       "      <td>H072p40001</td>\n",
       "      <td>140</td>\n",
       "    </tr>\n",
       "    <tr>\n",
       "      <th>4</th>\n",
       "      <td>den</td>\n",
       "      <td>O</td>\n",
       "      <td>688</td>\n",
       "      <td>H072p40001</td>\n",
       "      <td>140</td>\n",
       "    </tr>\n",
       "  </tbody>\n",
       "</table>\n",
       "</div>"
      ],
      "text/plain": [
       "           0       1    2           3    4\n",
       "0        wie       O  688  H072p40001  140\n",
       "1     suster       O  688  H072p40001  140\n",
       "2  lisebette  B-PERS  688  H072p40001  140\n",
       "3         bi       O  688  H072p40001  140\n",
       "4        den       O  688  H072p40001  140"
      ]
     },
     "execution_count": 8,
     "metadata": {},
     "output_type": "execute_result"
    }
   ],
   "source": [
    "import pandas as pd\n",
    "\n",
    "# path = 'C:/Users/Gebruiker/Documents/UA/Stage/Middelner_Github/C14NL-PoS-annotated/TEST.tsv'\n",
    "path = '../C14NL-PoS-annotated/TEST.tsv'\n",
    "TEST_DF = pd.read_csv(path, sep=\"\\t\", encoding = \"UTF-8\", header=None)\n",
    "\n",
    "\n",
    "from string import punctuation\n",
    "\n",
    "# def clean_words(word):\n",
    "#   word = word.casefold()\n",
    "#   word = word.translate(str.maketrans('', '', punctuation))\n",
    "#   return word\n",
    "\n",
    "# print(TRAIN[0])\n",
    "TEST_DF[0] = TEST_DF[0].apply(clean_words)\n",
    "\n",
    "TEST_DF.head()"
   ]
  },
  {
   "cell_type": "code",
   "execution_count": 9,
   "id": "6f452760",
   "metadata": {},
   "outputs": [],
   "source": [
    "body = []\n",
    "\n",
    "grouped = TEST_DF.groupby(3)\n",
    "\n",
    "for group in grouped.groups:\n",
    "    df = grouped.get_group(group)\n",
    "    body.append(' '.join(list(df[0])))\n",
    "\n",
    "\n",
    "grouped = TEST_DF.groupby(3)\n",
    "\n",
    "tags = []\n",
    "\n",
    "for group in grouped.groups:\n",
    "    df = grouped.get_group(group)\n",
    "    tags.append(list(df[1]))\n",
    "\n",
    "X = body\n",
    "y = tags"
   ]
  },
  {
   "cell_type": "code",
   "execution_count": 10,
   "id": "9df3d45a",
   "metadata": {},
   "outputs": [
    {
     "name": "stderr",
     "output_type": "stream",
     "text": [
      "C:\\Users\\Gebruiker\\anaconda3\\lib\\site-packages\\spacy\\util.py:833: UserWarning: [W095] Model 'nl_core_news_sm' (3.0.0) was trained with spaCy v3.0 and may not be 100% compatible with the current version (3.2.4). If you see errors or degraded performance, download a newer compatible model or retrain your custom model with the current spaCy version. For more details and available updates, run: python -m spacy validate\n",
      "  warnings.warn(warn_msg)\n"
     ]
    }
   ],
   "source": [
    "import spacy\n",
    "\n",
    "nlp = spacy.load(\"nl_core_news_sm\")\n",
    "\n",
    "# Process the text and print the text and label for the doc.ents\n",
    "doc = nlp.pipe(X)\n",
    "y_pred = [token.ent_type_ if len(token.ent_type_) != 0 else 'O' for Doc in doc for token in Doc]"
   ]
  },
  {
   "cell_type": "code",
   "execution_count": 16,
   "id": "ff9b1932",
   "metadata": {},
   "outputs": [
    {
     "name": "stdout",
     "output_type": "stream",
     "text": [
      "{'ORDINAL', 'NORP', 'O', 'DATE', 'CARDINAL'}\n",
      "{'MONEY', 'LOC', 'PERS', 'O', 'DATE'}\n"
     ]
    }
   ],
   "source": [
    "y_true = []\n",
    "\n",
    "for doc in y:\n",
    "    new_doc = []\n",
    "    for ent in doc:\n",
    "        ent = ent.replace('B-', '')\n",
    "        ent = ent.replace('I-', '')\n",
    "        new_doc.append(ent)\n",
    "    y_true.extend(new_doc)\n",
    "\n",
    "print(set(y_pred))\n",
    "print(set(y_true))"
   ]
  },
  {
   "cell_type": "code",
   "execution_count": 17,
   "id": "bf388b86",
   "metadata": {},
   "outputs": [
    {
     "name": "stdout",
     "output_type": "stream",
     "text": [
      "              precision    recall  f1-score   support\n",
      "\n",
      "    CARDINAL       0.00      0.00      0.00         0\n",
      "        DATE       0.33      0.01      0.01       192\n",
      "         LOC       0.00      0.00      0.00        95\n",
      "       MONEY       0.00      0.00      0.00       176\n",
      "        NORP       0.00      0.00      0.00         0\n",
      "           O       0.82      1.00      0.90      4309\n",
      "     ORDINAL       0.00      0.00      0.00         0\n",
      "        PERS       0.00      0.00      0.00       478\n",
      "\n",
      "    accuracy                           0.82      5250\n",
      "   macro avg       0.14      0.13      0.11      5250\n",
      "weighted avg       0.69      0.82      0.74      5250\n",
      "\n"
     ]
    },
    {
     "name": "stderr",
     "output_type": "stream",
     "text": [
      "C:\\Users\\Gebruiker\\anaconda3\\lib\\site-packages\\sklearn\\metrics\\_classification.py:1272: UndefinedMetricWarning: Precision and F-score are ill-defined and being set to 0.0 in labels with no predicted samples. Use `zero_division` parameter to control this behavior.\n",
      "  _warn_prf(average, modifier, msg_start, len(result))\n",
      "C:\\Users\\Gebruiker\\anaconda3\\lib\\site-packages\\sklearn\\metrics\\_classification.py:1272: UndefinedMetricWarning: Recall and F-score are ill-defined and being set to 0.0 in labels with no true samples. Use `zero_division` parameter to control this behavior.\n",
      "  _warn_prf(average, modifier, msg_start, len(result))\n"
     ]
    }
   ],
   "source": [
    "from sklearn.metrics import classification_report\n",
    "\n",
    "print(classification_report(y_true, y_pred))"
   ]
  }
 ],
 "metadata": {
  "kernelspec": {
   "display_name": "Python 3",
   "language": "python",
   "name": "python3"
  },
  "language_info": {
   "codemirror_mode": {
    "name": "ipython",
    "version": 3
   },
   "file_extension": ".py",
   "mimetype": "text/x-python",
   "name": "python",
   "nbconvert_exporter": "python",
   "pygments_lexer": "ipython3",
   "version": "3.8.8"
  }
 },
 "nbformat": 4,
 "nbformat_minor": 5
}
