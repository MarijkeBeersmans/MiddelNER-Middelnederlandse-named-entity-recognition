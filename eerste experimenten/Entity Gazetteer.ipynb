{
 "cells": [
  {
   "cell_type": "markdown",
   "id": "6526e44d",
   "metadata": {},
   "source": [
    "# SpaCy Matcher test"
   ]
  },
  {
   "cell_type": "code",
   "execution_count": 13,
   "id": "4b7de46b",
   "metadata": {},
   "outputs": [
    {
     "data": {
      "text/html": [
       "<div>\n",
       "<style scoped>\n",
       "    .dataframe tbody tr th:only-of-type {\n",
       "        vertical-align: middle;\n",
       "    }\n",
       "\n",
       "    .dataframe tbody tr th {\n",
       "        vertical-align: top;\n",
       "    }\n",
       "\n",
       "    .dataframe thead th {\n",
       "        text-align: right;\n",
       "    }\n",
       "</style>\n",
       "<table border=\"1\" class=\"dataframe\">\n",
       "  <thead>\n",
       "    <tr style=\"text-align: right;\">\n",
       "      <th></th>\n",
       "      <th>0</th>\n",
       "      <th>1</th>\n",
       "      <th>2</th>\n",
       "      <th>3</th>\n",
       "      <th>4</th>\n",
       "    </tr>\n",
       "  </thead>\n",
       "  <tbody>\n",
       "    <tr>\n",
       "      <th>0</th>\n",
       "      <td>wie</td>\n",
       "      <td>O</td>\n",
       "      <td>688</td>\n",
       "      <td>H072p40001</td>\n",
       "      <td>140</td>\n",
       "    </tr>\n",
       "    <tr>\n",
       "      <th>1</th>\n",
       "      <td>suster</td>\n",
       "      <td>O</td>\n",
       "      <td>688</td>\n",
       "      <td>H072p40001</td>\n",
       "      <td>140</td>\n",
       "    </tr>\n",
       "    <tr>\n",
       "      <th>2</th>\n",
       "      <td>lisebette</td>\n",
       "      <td>B-PERS</td>\n",
       "      <td>688</td>\n",
       "      <td>H072p40001</td>\n",
       "      <td>140</td>\n",
       "    </tr>\n",
       "    <tr>\n",
       "      <th>3</th>\n",
       "      <td>bi</td>\n",
       "      <td>O</td>\n",
       "      <td>688</td>\n",
       "      <td>H072p40001</td>\n",
       "      <td>140</td>\n",
       "    </tr>\n",
       "    <tr>\n",
       "      <th>4</th>\n",
       "      <td>den</td>\n",
       "      <td>O</td>\n",
       "      <td>688</td>\n",
       "      <td>H072p40001</td>\n",
       "      <td>140</td>\n",
       "    </tr>\n",
       "  </tbody>\n",
       "</table>\n",
       "</div>"
      ],
      "text/plain": [
       "           0       1    2           3    4\n",
       "0        wie       O  688  H072p40001  140\n",
       "1     suster       O  688  H072p40001  140\n",
       "2  lisebette  B-PERS  688  H072p40001  140\n",
       "3         bi       O  688  H072p40001  140\n",
       "4        den       O  688  H072p40001  140"
      ]
     },
     "execution_count": 13,
     "metadata": {},
     "output_type": "execute_result"
    }
   ],
   "source": [
    "import pandas as pd\n",
    "\n",
    "# path = 'C:/Users/Gebruiker/Documents/UA/Stage/Middelner_Github/C14NL-PoS-annotated/TEST.tsv'\n",
    "path = '../C14NL-PoS-annotated/TEST.tsv'\n",
    "TEST_DF = pd.read_csv(path, sep=\"\\t\", encoding = \"UTF-8\", header=None)\n",
    "\n",
    "\n",
    "from string import punctuation\n",
    "\n",
    "def clean_words(word):\n",
    "  word = word.casefold()\n",
    "  word = word.translate(str.maketrans('', '', punctuation))\n",
    "  return word\n",
    "\n",
    "# print(TRAIN[0])\n",
    "TEST_DF[0] = TEST_DF[0].apply(clean_words)\n",
    "\n",
    "TEST_DF.head()"
   ]
  },
  {
   "cell_type": "code",
   "execution_count": 41,
   "id": "964a932f",
   "metadata": {},
   "outputs": [
    {
     "name": "stderr",
     "output_type": "stream",
     "text": [
      "C:\\Users\\Gebruiker\\AppData\\Local\\Temp\\ipykernel_16648\\1836481126.py:16: SettingWithCopyWarning: \n",
      "A value is trying to be set on a copy of a slice from a DataFrame.\n",
      "Try using .loc[row_indexer,col_indexer] = value instead\n",
      "\n",
      "See the caveats in the documentation: https://pandas.pydata.org/pandas-docs/stable/user_guide/indexing.html#returning-a-view-versus-a-copy\n",
      "  df[1] = ['NAME' if x == 'B-PERS' or x =='I-PERS' else 'O' for x in df[1] ]\n"
     ]
    }
   ],
   "source": [
    "body = []\n",
    "\n",
    "grouped = TEST_DF.groupby(3)\n",
    "\n",
    "for group in grouped.groups:\n",
    "    df = grouped.get_group(group)\n",
    "    body.append(' '.join(list(df[0])))\n",
    "\n",
    "\n",
    "grouped = TEST_DF.groupby(3)\n",
    "\n",
    "tags = []\n",
    "\n",
    "for group in grouped.groups:\n",
    "    df = grouped.get_group(group)\n",
    "    df[1] = ['NAME' if x == 'B-PERS' or x =='I-PERS' else 'O' for x in df[1] ]\n",
    "    tags.append(list(df[1]))\n",
    "\n",
    "X = body\n",
    "y = tags"
   ]
  },
  {
   "cell_type": "code",
   "execution_count": 48,
   "id": "791a41ff",
   "metadata": {},
   "outputs": [
    {
     "name": "stderr",
     "output_type": "stream",
     "text": [
      "C:\\Users\\Gebruiker\\anaconda3\\lib\\site-packages\\spacy\\util.py:833: UserWarning: [W095] Model 'nl_core_news_sm' (3.0.0) was trained with spaCy v3.0 and may not be 100% compatible with the current version (3.2.4). If you see errors or degraded performance, download a newer compatible model or retrain your custom model with the current spaCy version. For more details and available updates, run: python -m spacy validate\n",
      "  warnings.warn(warn_msg)\n"
     ]
    },
    {
     "name": "stdout",
     "output_type": "stream",
     "text": [
      "[[{'LOWER': 'le loire'}], [{'LOWER': 'le duc'}], [{'LOWER': 'conins le machecliers'}], [{'LOWER': 'herluinus'}], [{'LOWER': 'adroaldus'}], [{'LOWER': 'everlin'}], [{'LOWER': 'de nuefport'}], [{'LOWER': 'eustachius'}], [{'LOWER': 'sprincscove'}], [{'LOWER': 'boileuwe'}], [{'LOWER': 'de vlargslo'}], [{'LOWER': 'iuliotus'}], [{'LOWER': 'foursin'}], [{'LOWER': 'dral'}], [{'LOWER': 'le pissonniers'}], [{'LOWER': 'sigitrudis'}], [{'LOWER': 'de strasieles'}], [{'LOWER': 'de bruges fil will de bruges'}], [{'LOWER': 'ermenfredus'}], [{'LOWER': 'le vattre'}]]\n",
      "['tok2vec', 'morphologizer', 'tagger', 'parser', 'ner', 'personal_name_component', 'attribute_ruler', 'lemmatizer']\n"
     ]
    }
   ],
   "source": [
    "import spacy\n",
    "import re\n",
    "from spacy.language import Language\n",
    "from spacy.matcher import Matcher\n",
    "from spacy.tokens import Span\n",
    "\n",
    "firstnames = pd.read_csv('christian_name.txt', sep='\\t', header=0, encoding='UTF-16')\n",
    "\n",
    "lastnames = pd.read_csv('family_name.txt', sep='\\t', header=0, encoding='UTF-16')\n",
    "\n",
    "lastnames = list(lastnames[\"family_name_document\"])\n",
    "lastnames_imp = []\n",
    "for lastname in lastnames:\n",
    "    index = lastname.find(',')\n",
    "    if index != -1:\n",
    "        assert type(index) == int\n",
    "        lastname = lastname[:index] + lastname[index+1:]\n",
    "        lastnames_imp.append(lastname)\n",
    "    else:\n",
    "        lastnames_imp.append(lastname)\n",
    "\n",
    "#load Dutch\n",
    "nlp = spacy.load(\"nl_core_news_sm\")\n",
    "\n",
    "names = list(firstnames[\"christian_name_document\"]) + lastnames_imp\n",
    "names = set(names)\n",
    "name_patterns = [[{\"LOWER\" : name.casefold()}] for name in names]\n",
    "\n",
    "print(name_patterns[:20])\n",
    "assert type(name_patterns) == list\n",
    "matcher = Matcher(nlp.vocab)\n",
    "matcher.add(\"NAME\", name_patterns)\n",
    "\n",
    "# Define the custom component\n",
    "@Language.component(\"personal_name_component\")\n",
    "def firstname_comp_function(doc):\n",
    "    # Apply the matcher to the doc\n",
    "    matches = matcher(doc)\n",
    "    # Create a Span for each match and assign the label \"PERSON_NAME\"\n",
    "    spans = [Span(doc, start, end, label=\"NAME\") for match_id, start, end in matches]\n",
    "    doc.ents = spans\n",
    "    return doc\n",
    "\n",
    "# Add the component to the pipeline after the \"ner\" component\n",
    "nlp.add_pipe(\"personal_name_component\", after=\"ner\")\n",
    "print(nlp.pipe_names)\n",
    "\n",
    "# Process the text and print the text and label for the doc.ents\n",
    "doc = nlp.pipe(X)\n",
    "y_pred = [token.ent_type_ if len(token.ent_type_) != 0 else 'O' for Doc in doc for token in Doc]"
   ]
  },
  {
   "cell_type": "code",
   "execution_count": 51,
   "id": "b8b9a5f5",
   "metadata": {},
   "outputs": [
    {
     "name": "stdout",
     "output_type": "stream",
     "text": [
      "              precision    recall  f1-score   support\n",
      "\n",
      "        NAME       0.71      0.19      0.29       478\n",
      "           O       0.92      0.99      0.96      4772\n",
      "\n",
      "    accuracy                           0.92      5250\n",
      "   macro avg       0.82      0.59      0.63      5250\n",
      "weighted avg       0.90      0.92      0.90      5250\n",
      "\n"
     ]
    }
   ],
   "source": [
    "y_true = []\n",
    "\n",
    "for doc in y:\n",
    "    y_true.extend(doc)\n",
    "\n",
    "\n",
    "from sklearn.metrics import classification_report\n",
    "\n",
    "print(classification_report(y_true, y_pred))"
   ]
  }
 ],
 "metadata": {
  "kernelspec": {
   "display_name": "Python 3",
   "language": "python",
   "name": "python3"
  },
  "language_info": {
   "codemirror_mode": {
    "name": "ipython",
    "version": 3
   },
   "file_extension": ".py",
   "mimetype": "text/x-python",
   "name": "python",
   "nbconvert_exporter": "python",
   "pygments_lexer": "ipython3",
   "version": "3.8.8"
  }
 },
 "nbformat": 4,
 "nbformat_minor": 5
}
