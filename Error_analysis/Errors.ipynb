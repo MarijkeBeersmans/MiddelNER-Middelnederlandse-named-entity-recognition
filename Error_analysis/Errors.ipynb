{
 "cells": [
  {
   "cell_type": "code",
   "execution_count": null,
   "metadata": {},
   "outputs": [],
   "source": []
  }
 ],
 "metadata": {
  "kernelspec": {
   "display_name": "Python 3",
   "language": "python",
   "name": "python3"
  },
  "language_info": {
   "name": "python",
   "version": "3.9.6 (tags/v3.9.6:db3ff76, Jun 28 2021, 15:26:21) [MSC v.1929 64 bit (AMD64)]"
  },
  "orig_nbformat": 4,
  "vscode": {
   "interpreter": {
    "hash": "adaaa5d75d60d6dfc06c9d60b6aa1559542457868c7276143088c4682ec1a4cf"
   }
  }
 },
 "nbformat": 4,
 "nbformat_minor": 2
}
