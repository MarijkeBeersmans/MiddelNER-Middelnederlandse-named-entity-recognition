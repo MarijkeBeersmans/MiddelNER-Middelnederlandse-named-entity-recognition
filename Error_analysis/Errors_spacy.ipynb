{
 "cells": [
  {
   "cell_type": "code",
   "execution_count": 1,
   "metadata": {},
   "outputs": [],
   "source": [
    "import pandas as pd\n",
    "import os"
   ]
  },
  {
   "cell_type": "code",
   "execution_count": 3,
   "metadata": {},
   "outputs": [],
   "source": [
    "df = pd.read_csv('SpaCy_predictions.csv', index_col=0)"
   ]
  },
  {
   "cell_type": "code",
   "execution_count": 4,
   "metadata": {},
   "outputs": [
    {
     "name": "stdout",
     "output_type": "stream",
     "text": [
      "              precision    recall  f1-score   support\n",
      "\n",
      "      B-DATE       0.89      0.82      0.86        40\n",
      "       B-LOC       0.85      0.66      0.74        85\n",
      "     B-MONEY       0.88      0.92      0.90        53\n",
      "      B-PERS       0.95      0.85      0.90       254\n",
      "      I-DATE       0.83      0.84      0.84       151\n",
      "       I-LOC       0.75      0.30      0.43        10\n",
      "     I-MONEY       0.83      0.94      0.88       123\n",
      "      I-PERS       0.88      0.79      0.83       224\n",
      "           O       0.97      0.98      0.97      4310\n",
      "\n",
      "    accuracy                           0.95      5250\n",
      "   macro avg       0.87      0.79      0.82      5250\n",
      "weighted avg       0.95      0.95      0.95      5250\n",
      "\n"
     ]
    }
   ],
   "source": [
    "from sklearn.metrics import classification_report\n",
    "\n",
    "print(classification_report(list(df.ent), list(df.prediction)))"
   ]
  },
  {
   "cell_type": "code",
   "execution_count": 5,
   "metadata": {},
   "outputs": [
    {
     "name": "stdout",
     "output_type": "stream",
     "text": [
      "0.7975609756097561\n",
      "              precision    recall  f1-score   support\n",
      "\n",
      "        DATE       0.73      0.68      0.70        40\n",
      "         LOC       0.83      0.65      0.73        85\n",
      "       MONEY       0.82      0.87      0.84        53\n",
      "        PERS       0.87      0.78      0.82       254\n",
      "\n",
      "   micro avg       0.84      0.76      0.80       432\n",
      "   macro avg       0.81      0.74      0.77       432\n",
      "weighted avg       0.84      0.76      0.80       432\n",
      "\n"
     ]
    }
   ],
   "source": [
    "from seqeval.metrics import accuracy_score\n",
    "from seqeval.metrics import classification_report\n",
    "from seqeval.metrics import f1_score\n",
    "\n",
    "print(f1_score([list(df.ent)], [list(df.prediction)]))\n",
    "\n",
    "print(classification_report([list(df.ent)], [list(df.prediction)]))"
   ]
  },
  {
   "cell_type": "code",
   "execution_count": 6,
   "metadata": {},
   "outputs": [],
   "source": [
    "true = ''\n",
    "\n",
    "for x, y in zip(df.word, df.ent):\n",
    "    true = true + (x.strip() + '\\t' + y.strip() + '\\n') "
   ]
  },
  {
   "cell_type": "code",
   "execution_count": 7,
   "metadata": {},
   "outputs": [],
   "source": [
    "pred = ''\n",
    "\n",
    "for x, y in zip(df.word, df.prediction):\n",
    "    pred = pred + (x.strip() + '\\t' + y.strip() + '\\n')"
   ]
  },
  {
   "cell_type": "code",
   "execution_count": 8,
   "metadata": {},
   "outputs": [
    {
     "name": "stdout",
     "output_type": "stream",
     "text": [
      "<class 'pandas.core.frame.DataFrame'>\n",
      "Int64Index: 5250 entries, 0 to 5249\n",
      "Data columns (total 3 columns):\n",
      " #   Column      Non-Null Count  Dtype \n",
      "---  ------      --------------  ----- \n",
      " 0   word        5250 non-null   object\n",
      " 1   ent         5250 non-null   object\n",
      " 2   prediction  5250 non-null   object\n",
      "dtypes: object(3)\n",
      "memory usage: 164.1+ KB\n"
     ]
    }
   ],
   "source": [
    "df.info()"
   ]
  },
  {
   "cell_type": "code",
   "execution_count": 9,
   "metadata": {},
   "outputs": [
    {
     "name": "stdout",
     "output_type": "stream",
     "text": [
      "{'ent_type': {'correct': 357, 'incorrect': 6, 'partial': 0, 'missed': 69, 'spurious': 25, 'possible': 432, 'actual': 388, 'precision': 0.9201030927835051, 'recall': 0.8263888888888888, 'f1': 0.8707317073170732}, 'partial': {'correct': 331, 'incorrect': 0, 'partial': 32, 'missed': 69, 'spurious': 25, 'possible': 432, 'actual': 388, 'precision': 0.8943298969072165, 'recall': 0.8032407407407407, 'f1': 0.8463414634146341}, 'strict': {'correct': 327, 'incorrect': 36, 'partial': 0, 'missed': 69, 'spurious': 25, 'possible': 432, 'actual': 388, 'precision': 0.8427835051546392, 'recall': 0.7569444444444444, 'f1': 0.7975609756097561}, 'exact': {'correct': 331, 'incorrect': 32, 'partial': 0, 'missed': 69, 'spurious': 25, 'possible': 432, 'actual': 388, 'precision': 0.8530927835051546, 'recall': 0.7662037037037037, 'f1': 0.8073170731707316}}\n"
     ]
    }
   ],
   "source": [
    "from nervaluate import Evaluator\n",
    "\n",
    "evaluator = Evaluator(true, pred, tags=['LOC', 'PERS', 'DATE', 'MONEY'],  loader=\"conll\")\n",
    "\n",
    "# Returns overall metrics and metrics for each tag\n",
    "\n",
    "results, results_per_tag = evaluator.evaluate()\n",
    "\n",
    "print(results)"
   ]
  },
  {
   "cell_type": "code",
   "execution_count": 12,
   "metadata": {},
   "outputs": [
    {
     "name": "stdout",
     "output_type": "stream",
     "text": [
      "{'actual': 230,\n",
      " 'correct': 200,\n",
      " 'f1': 0.8698347107438017,\n",
      " 'incorrect': 0,\n",
      " 'missed': 33,\n",
      " 'partial': 21,\n",
      " 'possible': 254,\n",
      " 'precision': 0.9152173913043479,\n",
      " 'recall': 0.8287401574803149,\n",
      " 'spurious': 9}\n"
     ]
    }
   ],
   "source": [
    "import pprint as pp\n",
    "\n",
    "pp.pprint(results_per_tag['PERS']['partial'])"
   ]
  },
  {
   "cell_type": "code",
   "execution_count": null,
   "metadata": {},
   "outputs": [],
   "source": []
  }
 ],
 "metadata": {
  "kernelspec": {
   "display_name": "base",
   "language": "python",
   "name": "python3"
  },
  "language_info": {
   "codemirror_mode": {
    "name": "ipython",
    "version": 3
   },
   "file_extension": ".py",
   "mimetype": "text/x-python",
   "name": "python",
   "nbconvert_exporter": "python",
   "pygments_lexer": "ipython3",
   "version": "3.8.8 (default, Apr 13 2021, 15:08:03) [MSC v.1916 64 bit (AMD64)]"
  },
  "orig_nbformat": 4,
  "vscode": {
   "interpreter": {
    "hash": "db3ad00c254152fbd946dfe3ddf750e2d6dd1f511dd85499e770b0c6b301697a"
   }
  }
 },
 "nbformat": 4,
 "nbformat_minor": 2
}
